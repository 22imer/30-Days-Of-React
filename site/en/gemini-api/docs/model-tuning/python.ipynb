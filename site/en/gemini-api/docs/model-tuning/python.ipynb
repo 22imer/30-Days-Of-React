{
  "cells": [
    {
      "cell_type": "markdown",
      "metadata": {
        "id": "Tce3stUlHN0L"
      },
      "source": [
        "##### Copyright 2024 Google LLC."
      ]
    },
    {
      "cell_type": "code",
      "execution_count": null,
      "metadata": {
        "cellView": "form",
        "id": "tuOe1ymfHZPu"
      },
      "outputs": [],
      "source": [
        "#@title Licensed under the Apache License, Version 2.0 (the \"License\");\n",
        "# you may not use this file except in compliance with the License.\n",
        "# You may obtain a copy of the License at\n",
        "#\n",
        "# https://www.apache.org/licenses/LICENSE-2.0\n",
        "#\n",
        "# Unless required by applicable law or agreed to in writing, software\n",
        "# distributed under the License is distributed on an \"AS IS\" BASIS,\n",
        "# WITHOUT WARRANTIES OR CONDITIONS OF ANY KIND, either express or implied.\n",
        "# See the License for the specific language governing permissions and\n",
        "# limitations under the License."
      ]
    },
    {
      "cell_type": "markdown",
      "metadata": {
        "id": "yeadDkMiISin"
      },
      "source": [
        "# Gemini API: Model tuning with Python"
      ]
    },
    {
      "cell_type": "markdown",
      "metadata": {
        "id": "lEXQ3OwKIa-O"
      },
      "source": [
        "<table class=\"tfo-notebook-buttons\" align=\"left\">\n",
        "  <td>\n",
        "    <a target=\"_blank\" href=\"https://ai.google.dev/gemini-api/docs/model-tuning/python\"><img src=\"https://ai.google.dev/static/site-assets/images/docs/notebook-site-button.png\" height=\"32\" width=\"32\" />View on ai.google.dev</a>\n",
        "  </td>\n",
        "    <td>\n",
        "    <a target=\"_blank\" href=\"https://colab.research.google.com/github/google/generative-ai-docs/blob/main/site/en/gemini-api/docs/model-tuning/python.ipynb\"><img src=\"https://www.tensorflow.org/images/colab_logo_32px.png\" />Run in Google Colab</a>\n",
        "  </td>\n",
        "  <td>\n",
        "    <a target=\"_blank\" href=\"https://github.com/google/generative-ai-docs/blob/main/site/en/gemini-api/docs/model-tuning/python.ipynb\"><img src=\"https://www.tensorflow.org/images/GitHub-Mark-32px.png\" />View source on GitHub</a>\n",
        "  </td>\n",
        "</table>"
      ]
    },
    {
      "cell_type": "markdown",
      "metadata": {
        "id": "Jp_CKyzxUqx6"
      },
      "source": [
        "In this notebook, you'll learn how to get started with the tuning service using the Python client library for the Gemini API. Here, you'll learn how to tune the text model behind the Gemini API's text generation service."
      ]
    },
    {
      "cell_type": "markdown",
      "metadata": {
        "id": "sOz_wyZAlCuQ"
      },
      "source": [
        "## Setup"
      ]
    },
    {
      "cell_type": "markdown",
      "metadata": {
        "id": "aHimx8NGMWDj"
      },
      "source": [
        "### Install the client library"
      ]
    },
    {
      "cell_type": "code",
      "execution_count": 2,
      "metadata": {
        "id": "cbcf72bcb56d"
      },
      "outputs": [],
      "source": [
        "!pip install -q google-generativeai"
      ]
    },
    {
      "cell_type": "markdown",
      "metadata": {
        "id": "jdIYSl2kN0cq"
      },
      "source": [
        "### Import libraries"
      ]
    },
    {
      "cell_type": "code",
      "execution_count": 3,
      "metadata": {
        "id": "8enrppafJPCX"
      },
      "outputs": [],
      "source": [
        "import google.generativeai as genai"
      ]
    },
    {
      "cell_type": "code",
      "execution_count": 4,
      "metadata": {
        "id": "lhqVUjH7ZKUi"
      },
      "outputs": [],
      "source": [
        "from google.colab import userdata\n",
        "genai.configure(api_key=userdata.get('GOOGLE_API_KEY'))"
      ]
    },
    {
      "cell_type": "markdown",
      "metadata": {
        "id": "P-MYZECwlRCq"
      },
      "source": [
        "You can check you existing tuned models with the `genai.list_tuned_model` method."
      ]
    },
    {
      "cell_type": "code",
      "execution_count": 26,
      "metadata": {
        "id": "XyWzoYFxU4r6",
        "colab": {
          "base_uri": "https://localhost:8080/",
          "height": 34
        },
        "outputId": "25e8e36a-54b1-42d9-f888-ecc23ebc36df"
      },
      "outputs": [
        {
          "output_type": "stream",
          "name": "stdout",
          "text": [
            "tunedModels/generate-num-8455\n"
          ]
        }
      ],
      "source": [
        "for i, m in zip(range(5), genai.list_tuned_models()):\n",
        "  print(m.name)"
      ]
    },
    {
      "cell_type": "markdown",
      "metadata": {
        "id": "BhkXRzciv3Dp"
      },
      "source": [
        "## Create tuned model"
      ]
    },
    {
      "cell_type": "markdown",
      "metadata": {
        "id": "OO8VZYAinLWc"
      },
      "source": [
        "To create a tuned model, you need to pass your dataset to the model in the `genai.create_tuned_model` method. You can do this be directly defining the input and output values in the call or importing from a file into a dataframe to pass to the method.\n",
        "\n",
        "For this example, you will tune a model to generate the next number in the sequence. For example, if the input is `1`, the model should output `2`. If the input is `one hundred`, the output should be `one hundred one`."
      ]
    },
    {
      "cell_type": "code",
      "execution_count": 27,
      "metadata": {
        "id": "w-EBSe9wTbLB",
        "colab": {
          "base_uri": "https://localhost:8080/",
          "height": 295
        },
        "outputId": "f7e92ca0-889b-47b7-e84a-5c677427b796"
      },
      "outputs": [
        {
          "output_type": "execute_result",
          "data": {
            "text/plain": [
              "Model(name='models/gemini-1.5-flash-001-tuning',\n",
              "      base_model_id='',\n",
              "      version='001',\n",
              "      display_name='Gemini 1.5 Flash 001 Tuning',\n",
              "      description=('Version of Gemini 1.5 Flash that supports tuning, our fast and versatile '\n",
              "                   'multimodal model for scaling across diverse tasks, released in May of 2024.'),\n",
              "      input_token_limit=16384,\n",
              "      output_token_limit=8192,\n",
              "      supported_generation_methods=['generateContent', 'countTokens', 'createTunedModel'],\n",
              "      temperature=1.0,\n",
              "      max_temperature=2.0,\n",
              "      top_p=0.95,\n",
              "      top_k=64)"
            ]
          },
          "metadata": {},
          "execution_count": 27
        }
      ],
      "source": [
        "base_model = [\n",
        "    m for m in genai.list_models()\n",
        "    if \"createTunedModel\" in m.supported_generation_methods and\n",
        "    \"flash\" in m.name][0]\n",
        "base_model"
      ]
    },
    {
      "cell_type": "code",
      "execution_count": 18,
      "metadata": {
        "id": "baHjHh1oTTTC"
      },
      "outputs": [],
      "source": [
        "import random\n",
        "\n",
        "name = f'generate-num-{random.randint(0,10000)}'\n",
        "operation = genai.create_tuned_model(\n",
        "    # You can use a tuned model here too. Set `source_model=\"tunedModels/...\"`\n",
        "    source_model=\"tunedModels/generate-num-8455\",\n",
        "    {\n",
        "    training_data: [\n",
        "        {\n",
        "            \"text_input\": \"Giảng viên\",\n",
        "            \"output\": \"Phạm Văn Sự\"\n",
        "        },\n",
        "        {\n",
        "            \"text_input\": \"Môn học\",\n",
        "            \"output\": \"Lý thuyết thông tin\"\n",
        "        },\n",
        "        {\n",
        "            \"text_input\": \"Môn học có mấy chương\",\n",
        "            \"output\": \"Môn học này có 6 chương\"\n",
        "        },\n",
        "        {\n",
        "            \"text_input\": \"Nội dung chi tiết chương 1\",\n",
        "            \"output\": \"Chương 1: Giới thiệu về lý thuyết thông tin\\n- Khái niệm thông tin và lý thuyết thông tin\\n- Các ứng dụng của lý thuyết thông tin\\n- Mô hình hệ thống thông tin\\n- Các khái niệm cơ bản: nguồn tin, kênh truyền, bộ mã hóa, bộ giải mã\"\n",
        "        },\n",
        "        {\n",
        "            \"text_input\": \"Nội dung chi tiết chương 2\",\n",
        "            \"output\": \"Chương 2: Entropy và lượng tin\\n- Định nghĩa và tính chất của entropy\\n- Entropy của nguồn rời rạc\\n- Entropy có điều kiện và entropy chung\\n- Lượng tin tương hỗ\\n- Entropy của nguồn liên tục\"\n",
        "        },\n",
        "        {\n",
        "            \"text_input\": \"Nội dung chi tiết chương 3\",\n",
        "            \"output\": \"Chương 3: Mã hóa nguồn\\n- Mã hóa nguồn không tổn hao\\n- Mã hóa Huffman\\n- Mã hóa số học\\n- Mã hóa nguồn có tổn hao\\n- Mã hóa biến đổi\\n- Mã hóa dự đoán\"\n",
        "        },\n",
        "        {\n",
        "            \"text_input\": \"Nội dung chi tiết chương 4\",\n",
        "            \"output\": \"Chương 4: Mã hóa kênh\\n- Khái niệm về kênh truyền\\n- Ma trận kênh\\n- Dung lượng kênh\\n- Định lý kênh nhiễu\\n- Các loại kênh truyền cơ bản\"\n",
        "        },\n",
        "        {\n",
        "            \"text_input\": \"Nội dung chi tiết chương 5\",\n",
        "            \"output\": \"Chương 5: Lý thuyết mã hóa\\n- Mã phát hiện và sửa lỗi\\n- Mã khối tuyến tính\\n- Mã vòng\\n- Mã BCH và Reed-Solomon\\n- Mã chập và giải mã Viterbi\"\n",
        "        },\n",
        "        {\n",
        "            \"text_input\": \"Nội dung chi tiết chương 6\",\n",
        "            \"output\": \"Chương 6: Ứng dụng của lý thuyết thông tin\\n- Nén dữ liệu\\n- Mã hóa nguồn trong thực tế (JPEG, MPEG)\\n- Mã hóa kênh trong thông tin di động\\n- Ứng dụng trong bảo mật thông tin\\n- Ứng dụng trong xử lý tín hiệu số\"\n",
        "        },\n",
        "        {\n",
        "            \"text_input\": \"Tài liệu tham khảo\",\n",
        "            \"output\": \"1. Giáo trình Lý thuyết thông tin - PTIT\\n2. Elements of Information Theory - Thomas M. Cover\\n3. Information Theory, Coding and Cryptography - Ranjan Bose\\n4. Digital Communications - John G. Proakis\"\n",
        "        },\n",
        "        {\n",
        "            \"text_input\": \"Mục tiêu môn học\",\n",
        "            \"output\": \"Sau khi học xong môn học, sinh viên có thể:\\n- Hiểu và áp dụng các khái niệm cơ bản về entropy và lượng tin\\n- Phân tích và thiết kế các phương pháp mã hóa nguồn\\n- Hiểu và áp dụng các kỹ thuật mã hóa kênh\\n- Áp dụng lý thuyết thông tin vào các bài toán thực tế\"\n",
        "        },\n",
        "        {\n",
        "            \"text_input\": \"Số tín chỉ\",\n",
        "            \"output\": \"Môn học có 3 tín chỉ\"\n",
        "        },\n",
        "        {\n",
        "            \"text_input\": \"Hình thức thi\",\n",
        "            \"output\": \"Thi cuối kỳ và đánh giá quá trình\"\n",
        "        },\n",
        "        {\n",
        "            \"text_input\": \"Tài liệu học tập\",\n",
        "            \"output\": \"Giáo trình Lý thuyết thông tin và các bài giảng của giảng viên\"\n",
        "        },\n",
        "        {\n",
        "            \"text_input\": \"Công thức tính entropy\",\n",
        "            \"output\": \"Entropy H(X) = -∑p(x)log2(p(x))\\nTrong đó:\\n- p(x) là xác suất xuất hiện của ký tự x\\n- log2 là logarit cơ số 2\"\n",
        "        },\n",
        "        {\n",
        "            \"text_input\": \"Ví dụ về entropy\",\n",
        "            \"output\": \"Ví dụ: Nguồn tin có 2 ký tự A và B với xác suất p(A)=0.7 và p(B)=0.3\\nH(X) = -(0.7*log2(0.7) + 0.3*log2(0.3)) ≈ 0.881 bit\"\n",
        "        },\n",
        "        {\n",
        "            \"text_input\": \"Các loại mã hóa nguồn phổ biến\",\n",
        "            \"output\": \"1. Mã hóa Huffman\\n2. Mã hóa số học\\n3. Mã hóa Lempel-Ziv (LZ)\\n4. Mã hóa Run-length\\n5. Mã hóa JPEG\\n6. Mã hóa MPEG\"\n",
        "        },\n",
        "        {\n",
        "            \"text_input\": \"Ứng dụng thực tế của mã hóa kênh\",\n",
        "            \"output\": \"1. Thông tin di động (3G, 4G, 5G)\\n2. Truyền hình số\\n3. Thông tin vệ tinh\\n4. Lưu trữ dữ liệu (CD, DVD)\\n5. Thông tin quang\"\n",
        "        },\n",
        "        {\n",
        "            \"text_input\": \"Các loại kênh truyền cơ bản\",\n",
        "            \"output\": \"1. Kênh nhị phân đối xứng (BSC)\\n2. Kênh xóa (Erasure Channel)\\n3. Kênh Gaussian\\n4. Kênh fading\\n5. Kênh nhiễu trắng cộng tính (AWGN)\"\n",
        "        },\n",
        "        {\n",
        "            \"text_input\": \"Định lý Shannon\",\n",
        "            \"output\": \"Định lý kênh nhiễu của Shannon:\\nC = B*log2(1 + S/N)\\nTrong đó:\\n- C: Dung lượng kênh (bits/s)\\n- B: Băng thông (Hz)\\n- S/N: Tỷ số tín hiệu trên nhiễu\"\n",
        "        },\n",
        "        {\n",
        "            \"text_input\": \"Các phương pháp mã hóa nguồn có tổn hao\",\n",
        "            \"output\": \"1. Mã hóa biến đổi (DCT, Wavelet)\\n2. Mã hóa dự đoán\\n3. Mã hóa vector lượng tử\\n4. Mã hóa fractal\\n5. Mã hóa dựa trên mô hình\"\n",
        "        },\n",
        "        {\n",
        "            \"text_input\": \"Các loại mã sửa lỗi\",\n",
        "            \"output\": \"1. Mã Hamming\\n2. Mã BCH\\n3. Mã Reed-Solomon\\n4. Mã chập\\n5. Mã Turbo\\n6. Mã LDPC\"\n",
        "        },\n",
        "        {\n",
        "            \"text_input\": \"Các bài tập thực hành\",\n",
        "            \"output\": \"1. Tính entropy của nguồn tin\\n2. Xây dựng mã Huffman\\n3. Mô phỏng kênh truyền\\n4. Thiết kế mã sửa lỗi\\n5. Nén dữ liệu sử dụng các thuật toán khác nhau\"\n",
        "        },\n",
        "        {\n",
        "            \"text_input\": \"Các phần mềm hỗ trợ học tập\",\n",
        "            \"output\": \"1. MATLAB/Simulink\\n2. Python với thư viện numpy và scipy\\n3. GNU Radio\\n4. Xilinx ISE/Vivado (cho FPGA)\\n5. Các công cụ mô phỏng kênh truyền\"\n",
        "        },\n",
        "        {\n",
        "            \"text_input\": \"Các hướng nghiên cứu hiện đại\",\n",
        "            \"output\": \"1. Mã hóa mạng (Network Coding)\\n2. Mã hóa phân tán (Distributed Coding)\\n3. Mã hóa thích ứng (Adaptive Coding)\\n4. Mã hóa cho truyền thông lượng tử\\n5. Mã hóa cho IoT và cảm biến mạng\"\n",
        "        },\n",
        "        {\n",
        "            \"text_input\": \"Các tiêu chuẩn mã hóa phổ biến\",\n",
        "            \"output\": \"1. JPEG/JPEG2000 (ảnh)\\n2. MPEG-2/4, H.264/265 (video)\\n3. MP3, AAC (âm thanh)\\n4. ZIP, RAR (nén dữ liệu)\\n5. Reed-Solomon trong CD/DVD\"\n",
        "        },\n",
        "        {\n",
        "            \"text_input\": \"Ví dụ về mã hóa Huffman\",\n",
        "            \"output\": \"Ví dụ: Mã hóa chuỗi 'AABBC'\\n1. Tính tần suất: A(2), B(2), C(1)\\n2. Xây dựng cây Huffman:\\n   - C(1) + B(2) = 3\\n   - 3 + A(2) = 5\\n3. Mã hóa: A=0, B=10, C=11\\n4. Kết quả: 0010101011\"\n",
        "        },\n",
        "        {\n",
        "            \"text_input\": \"Công thức tính dung lượng kênh\",\n",
        "            \"output\": \"1. Kênh nhị phân đối xứng (BSC):\\nC = 1 - H(p)\\nTrong đó p là xác suất lỗi bit\\n\\n2. Kênh Gaussian:\\nC = (1/2)log2(1 + P/N)\\nTrong đó P là công suất tín hiệu, N là công suất nhiễu\"\n",
        "        },\n",
        "        {\n",
        "            \"text_input\": \"Các bước thiết kế mã sửa lỗi\",\n",
        "            \"output\": \"1. Xác định yêu cầu về khả năng sửa lỗi\\n2. Chọn loại mã phù hợp (khối, vòng, chập)\\n3. Xác định các tham số mã (độ dài từ mã, số bit kiểm tra)\\n4. Thiết kế bộ mã hóa và giải mã\\n5. Đánh giá hiệu suất và độ phức tạp\"\n",
        "        },\n",
        "        {\n",
        "            \"text_input\": \"Ứng dụng của entropy trong nén dữ liệu\",\n",
        "            \"output\": \"1. Đánh giá hiệu suất nén tối đa\\n2. Xác định phương pháp mã hóa phù hợp\\n3. Tối ưu hóa độ dài từ mã\\n4. Phân tích tính dư thừa của dữ liệu\\n5. Thiết kế các thuật toán nén hiệu quả\"\n",
        "        },\n",
        "        {\n",
        "            \"text_input\": \"Các phương pháp mã hóa nguồn cho ảnh\",\n",
        "            \"output\": \"1. JPEG:\\n- Chuyển đổi màu RGB sang YCbCr\\n- Chia ảnh thành các khối 8x8\\n- Áp dụng DCT\\n- Lượng tử hóa\\n- Mã hóa entropy\\n\\n2. JPEG2000:\\n- Biến đổi Wavelet\\n- Mã hóa EBCOT\\n- Mã hóa số học\"\n",
        "        },\n",
        "        {\n",
        "            \"text_input\": \"Các phương pháp mã hóa nguồn cho âm thanh\",\n",
        "            \"output\": \"1. MP3:\\n- Phân tích tần số (MDCT)\\n- Mô hình tâm lý âm thanh\\n- Lượng tử hóa\\n- Mã hóa Huffman\\n\\n2. AAC:\\n- Biến đổi MDCT\\n- Mô hình tâm lý âm thanh nâng cao\\n- Mã hóa số học\"\n",
        "        },\n",
        "        {\n",
        "            \"text_input\": \"Các phương pháp mã hóa kênh trong 5G\",\n",
        "            \"output\": \"1. Mã LDPC cho dữ liệu\\n2. Mã Polar cho điều khiển\\n3. Mã chập cho các kênh điều khiển\\n4. Mã Turbo cho một số ứng dụng đặc biệt\\n5. HARQ (Hybrid Automatic Repeat Request)\"\n",
        "        },\n",
        "        {\n",
        "            \"text_input\": \"Các tham số đánh giá hiệu suất mã hóa\",\n",
        "            \"output\": \"1. Tỷ lệ nén (Compression Ratio)\\n2. Tỷ lệ lỗi bit (BER)\\n3. Tỷ lệ lỗi khung (FER)\\n4. Độ trễ mã hóa/giải mã\\n5. Độ phức tạp tính toán\\n6. Hiệu suất sử dụng băng thông\"\n",
        "        },\n",
        "        {\n",
        "            \"text_input\": \"Các bài toán thực tế trong lý thuyết thông tin\",\n",
        "            \"output\": \"1. Thiết kế hệ thống truyền thông số\\n2. Tối ưu hóa mạng cảm biến\\n3. Bảo mật thông tin trong truyền thông\\n4. Nén dữ liệu đa phương tiện\\n5. Thiết kế bộ nhớ chịu lỗi\\n6. Truyền thông lượng tử\"\n",
        "        },\n",
        "        {\n",
        "            \"text_input\": \"Các công cụ mô phỏng kênh truyền\",\n",
        "            \"output\": \"1. MATLAB Communications Toolbox\\n2. GNU Radio\\n3. Simulink\\n4. Python với thư viện scipy.signal\\n5. Các công cụ mô phỏng chuyên dụng cho 5G\"\n",
        "        },\n",
        "        {\n",
        "            \"text_input\": \"Các tiêu chuẩn mã hóa trong IoT\",\n",
        "            \"output\": \"1. LoRa (Long Range)\\n2. Zigbee\\n3. Bluetooth Low Energy\\n4. Sigfox\\n5. NB-IoT\\n6. LTE-M\"\n",
        "        },\n",
        "        {\n",
        "            \"text_input\": \"Các phương pháp mã hóa cho bảo mật\",\n",
        "            \"output\": \"1. Mã hóa khóa công khai\\n2. Mã hóa khóa đối xứng\\n3. Mã hóa lượng tử\\n4. Mã hóa đồng hình\\n5. Mã hóa phân tán\"\n",
        "        },\n",
        "        {\n",
        "            \"text_input\": \"Ví dụ 1: Tính entropy của nguồn tin\",\n",
        "            \"output\": \"Cho nguồn tin có 3 ký tự A, B, C với xác suất p(A)=0.5, p(B)=0.3, p(C)=0.2\\nH(X) = -(0.5*log2(0.5) + 0.3*log2(0.3) + 0.2*log2(0.2)) ≈ 1.485 bit\"\n",
        "        },\n",
        "        {\n",
        "            \"text_input\": \"Ví dụ 2: Mã hóa Huffman cho chuỗi\",\n",
        "            \"output\": \"Chuỗi: 'HELLO WORLD'\\nTần suất: H(1), E(1), L(3), O(2), W(1), R(1), D(1)\\nMã hóa: H=000, E=001, L=01, O=10, W=011, R=100, D=101\"\n",
        "        },\n",
        "        {\n",
        "            \"text_input\": \"Ví dụ 3: Tính dung lượng kênh BSC\",\n",
        "            \"output\": \"Kênh nhị phân đối xứng với p=0.1\\nC = 1 - H(0.1) = 1 - 0.469 = 0.531 bit/ký tự\"\n",
        "        },\n",
        "        {\n",
        "            \"text_input\": \"Ví dụ 4: Mã Hamming (7,4)\",\n",
        "            \"output\": \"Dữ liệu: 1010\\nMã hóa: 1010101\\nCó thể sửa 1 bit lỗi\"\n",
        "        },\n",
        "        {\n",
        "            \"text_input\": \"Ví dụ 5: Nén dữ liệu Run-length\",\n",
        "            \"output\": \"Dữ liệu: AAAAABBBCC\\nMã hóa: 5A3B2C\\nTỷ lệ nén: 11/6 ≈ 1.83\"\n",
        "        },\n",
        "        {\n",
        "            \"text_input\": \"Ví dụ 6: Tính lượng tin tương hỗ\",\n",
        "            \"output\": \"X: 0,1 với p(0)=0.6, p(1)=0.4\\nY: 0,1 với p(0|0)=0.8, p(1|1)=0.7\\nI(X;Y) = H(X) - H(X|Y) ≈ 0.12 bit\"\n",
        "        },\n",
        "        {\n",
        "            \"text_input\": \"Ví dụ 7: Mã hóa số học\",\n",
        "            \"output\": \"Chuỗi: 'ABAC'\\nKhoảng: [0,1]\\nA: [0,0.4], B: [0.4,0.7], C: [0.7,1]\\nKết quả: 0.35\"\n",
        "        },\n",
        "        {\n",
        "            \"text_input\": \"Ví dụ 8: Tính tỷ lệ nén\",\n",
        "            \"output\": \"Dữ liệu gốc: 1000 byte\\nDữ liệu nén: 400 byte\\nTỷ lệ nén: 1000/400 = 2.5\"\n",
        "        },\n",
        "        {\n",
        "            \"text_input\": \"Ví dụ 9: Mã hóa LZ77\",\n",
        "            \"output\": \"Chuỗi: 'ABABABAB'\\nCửa sổ trượt: 4\\nMã hóa: (0,0,A)(0,0,B)(2,2,AB)(2,2,AB)\"\n",
        "        },\n",
        "        {\n",
        "            \"text_input\": \"Ví dụ 10: Tính BER\",\n",
        "            \"output\": \"Tổng số bit: 1000\\nSố bit lỗi: 5\\nBER = 5/1000 = 0.005 = 0.5%\"\n",
        "        },\n",
        "        {\n",
        "            \"text_input\": \"Ví dụ 11: Mã hóa Reed-Solomon\",\n",
        "            \"output\": \"Dữ liệu: 8 byte\\nMã sửa lỗi: 2 byte\\nCó thể sửa 1 byte lỗi\"\n",
        "        },\n",
        "        {\n",
        "            \"text_input\": \"Ví dụ 12: Tính entropy có điều kiện\",\n",
        "            \"output\": \"H(X|Y) = -∑∑p(x,y)log2(p(x|y))\\nVới p(x|y) là xác suất có điều kiện\"\n",
        "        },\n",
        "        {\n",
        "            \"text_input\": \"Ví dụ 13: Mã hóa JPEG\",\n",
        "            \"output\": \"1. Chuyển RGB sang YCbCr\\n2. Chia ảnh 8x8\\n3. DCT\\n4. Lượng tử hóa\\n5. Mã hóa entropy\"\n",
        "        },\n",
        "        {\n",
        "            \"text_input\": \"Ví dụ 14: Tính FER\",\n",
        "            \"output\": \"Tổng số frame: 1000\\nSố frame lỗi: 3\\nFER = 3/1000 = 0.003 = 0.3%\"\n",
        "        },\n",
        "        {\n",
        "            \"text_input\": \"Ví dụ 15: Mã hóa MP3\",\n",
        "            \"output\": \"1. MDCT\\n2. Mô hình tâm lý âm thanh\\n3. Lượng tử hóa\\n4. Mã hóa Huffman\"\n",
        "        },\n",
        "        {\n",
        "            \"text_input\": \"Ví dụ 16: Tính SNR\",\n",
        "            \"output\": \"Công suất tín hiệu: 10 mW\\nCông suất nhiễu: 1 mW\\nSNR = 10*log10(10/1) = 10 dB\"\n",
        "        },\n",
        "        {\n",
        "            \"text_input\": \"Ví dụ 17: Mã hóa H.264\",\n",
        "            \"output\": \"1. Dự đoán nội khung\\n2. Dự đoán liên khung\\n3. Biến đổi số\\n4. Mã hóa entropy\"\n",
        "        },\n",
        "        {\n",
        "            \"text_input\": \"Ví dụ 18: Tính tỷ lệ mã hóa\",\n",
        "            \"output\": \"Dữ liệu gốc: 100 bit\\nDữ liệu mã hóa: 150 bit\\nTỷ lệ mã hóa: 150/100 = 1.5\"\n",
        "        },\n",
        "        {\n",
        "            \"text_input\": \"Ví dụ 19: Mã hóa LDPC\",\n",
        "            \"output\": \"Ma trận kiểm tra: 1000x2000\\nTỷ lệ mã hóa: 1/2\\nCó thể sửa nhiều lỗi\"\n",
        "        },\n",
        "        {\n",
        "            \"text_input\": \"Ví dụ 20: Tính độ dư thừa\",\n",
        "            \"output\": \"Entropy tối đa: 8 bit\\nEntropy thực tế: 5 bit\\nĐộ dư thừa: 8-5 = 3 bit\"\n",
        "        },\n",
        "        {\n",
        "            \"text_input\": \"Ví dụ 21: Mã hóa Polar\",\n",
        "            \"output\": \"Độ dài mã: 1024 bit\\nSố bit thông tin: 512 bit\\nTỷ lệ mã hóa: 1/2\"\n",
        "        },\n",
        "        {\n",
        "            \"text_input\": \"Ví dụ 22: Tính hiệu suất kênh\",\n",
        "            \"output\": \"Dung lượng lý thuyết: 1 Mbps\\nTốc độ thực tế: 800 kbps\\nHiệu suất: 80%\"\n",
        "        },\n",
        "        {\n",
        "            \"text_input\": \"Ví dụ 23: Mã hóa Turbo\",\n",
        "            \"output\": \"1. Mã hóa chập song song\\n2. Hoán vị\\n3. Mã hóa chập thứ hai\\n4. Giải mã lặp\"\n",
        "        },\n",
        "        {\n",
        "            \"text_input\": \"Ví dụ 24: Tính độ trễ\",\n",
        "            \"output\": \"Thời gian mã hóa: 10ms\\nThời gian truyền: 50ms\\nThời gian giải mã: 10ms\\nTổng độ trễ: 70ms\"\n",
        "        },\n",
        "        {\n",
        "            \"text_input\": \"Ví dụ 25: Mã hóa BCH\",\n",
        "            \"output\": \"Độ dài mã: 15 bit\\nSố bit thông tin: 7 bit\\nSố bit sửa lỗi: 2 bit\"\n",
        "        },\n",
        "        {\n",
        "            \"text_input\": \"Ví dụ 26: Tính hiệu suất nén\",\n",
        "            \"output\": \"Dữ liệu gốc: 1MB\\nDữ liệu nén: 200KB\\nHiệu suất nén: 80%\"\n",
        "        },\n",
        "        {\n",
        "            \"text_input\": \"Ví dụ 27: Mã hóa Convolutional\",\n",
        "            \"output\": \"Tỷ lệ mã hóa: 1/2\\nĐộ dài ràng buộc: 7\\nSố trạng thái: 64\"\n",
        "        },\n",
        "        {\n",
        "            \"text_input\": \"Ví dụ 28: Tính độ phức tạp\",\n",
        "            \"output\": \"Số phép tính: O(n log n)\\nBộ nhớ: O(n)\\nVới n là độ dài dữ liệu\"\n",
        "        },\n",
        "        {\n",
        "            \"text_input\": \"Ví dụ 29: Mã hóa Viterbi\",\n",
        "            \"output\": \"1. Tính metric nhánh\\n2. Cập nhật metric trạng thái\\n3. Lưu vết\\n4. Quyết định đường đi\"\n",
        "        },\n",
        "        {\n",
        "            \"text_input\": \"Ví dụ 30: Tính hiệu suất băng thông\",\n",
        "            \"output\": \"Băng thông: 1MHz\\nTốc độ bit: 2Mbps\\nHiệu suất: 2 bit/Hz\"\n",
        "        },\n",
        "        {\n",
        "            \"text_input\": \"Ví dụ 31: Mã hóa Reed-Muller\",\n",
        "            \"output\": \"Độ dài mã: 16 bit\\nBậc: 2\\nSố bit thông tin: 11 bit\"\n",
        "        },\n",
        "        {\n",
        "            \"text_input\": \"Ví dụ 32: Tính độ tin cậy\",\n",
        "            \"output\": \"Số lần truyền: 1000\\nSố lần thành công: 990\\nĐộ tin cậy: 99%\"\n",
        "        },\n",
        "        {\n",
        "            \"text_input\": \"Ví dụ 33: Mã hóa Golay\",\n",
        "            \"output\": \"Độ dài mã: 24 bit\\nSố bit thông tin: 12 bit\\nSố bit sửa lỗi: 3 bit\"\n",
        "        },\n",
        "        {\n",
        "            \"text_input\": \"Ví dụ 34: Tính hiệu suất năng lượng\",\n",
        "            \"output\": \"Công suất tiêu thụ: 100mW\\nTốc độ bit: 1Mbps\\nHiệu suất: 100nJ/bit\"\n",
        "        },\n",
        "        {\n",
        "            \"text_input\": \"Ví dụ 35: Mã hóa Hadamard\",\n",
        "            \"output\": \"Ma trận: 8x8\\nSố bit thông tin: 3 bit\\nKhoảng cách Hamming: 4\"\n",
        "        },\n",
        "        {\n",
        "            \"text_input\": \"Ví dụ 36: Tính độ trễ truyền\",\n",
        "            \"output\": \"Khoảng cách: 100km\\nTốc độ truyền: 2x10^8 m/s\\nĐộ trễ: 0.5ms\"\n",
        "        },\n",
        "        {\n",
        "            \"text_input\": \"Ví dụ 37: Mã hóa Cyclic\",\n",
        "            \"output\": \"Đa thức sinh: x^3 + x + 1\\nĐộ dài mã: 7 bit\\nSố bit thông tin: 4 bit\"\n",
        "        },\n",
        "        {\n",
        "            \"text_input\": \"Ví dụ 38: Tính hiệu suất mã hóa\",\n",
        "            \"output\": \"Tỷ lệ mã hóa: 1/2\\nHiệu suất sửa lỗi: 90%\\nĐộ trễ: 10ms\"\n",
        "        },\n",
        "        {\n",
        "            \"text_input\": \"Ví dụ 39: Mã hóa BCH mở rộng\",\n",
        "            \"output\": \"Độ dài mã: 31 bit\\nSố bit thông tin: 16 bit\\nSố bit sửa lỗi: 3 bit\"\n",
        "        },\n",
        "        {\n",
        "            \"text_input\": \"Ví dụ 40: Tính độ phức tạp giải mã\",\n",
        "            \"output\": \"Số phép tính: O(2^n)\\nBộ nhớ: O(n)\\nVới n là độ dài mã\"\n",
        "        },\n",
        "        {\n",
        "            \"text_input\": \"Ví dụ 41: Mã hóa lượng tử cho QKD\",\n",
        "            \"output\": \"1. Tạo cặp photon vướng víu\\n2. Đo lường trạng thái lượng tử\\n3. Sửa lỗi lượng tử\\n4. Khuếch đại bí mật\\nTốc độ bit: 1Mbps\"\n",
        "        },\n",
        "        {\n",
        "            \"text_input\": \"Ví dụ 42: Tính entropy lượng tử\",\n",
        "            \"output\": \"Trạng thái lượng tử: |ψ⟩ = (|0⟩ + |1⟩)/√2\\nEntropy von Neumann: S(ρ) = -Tr(ρ log ρ)\\nKết quả: 1 bit\"\n",
        "        },\n",
        "        {\n",
        "            \"text_input\": \"Ví dụ 43: Mã hóa mạng cho P2P\",\n",
        "            \"output\": \"1. Mã hóa tuyến tính\\n2. Kết hợp gói tin\\n3. Giải mã phân tán\\nHiệu suất: 200%\"\n",
        "        },\n",
        "        {\n",
        "            \"text_input\": \"Ví dụ 44: Tính dung lượng kênh lượng tử\",\n",
        "            \"output\": \"Kênh lượng tử với nhiễu:\\nFidelity: 0.9\\nDung lượng: C = max I(A;B)\\nKết quả: 0.5 qubit\"\n",
        "        },\n",
        "        {\n",
        "            \"text_input\": \"Ví dụ 45: Mã hóa phân tán cho IoT\",\n",
        "            \"output\": \"1. Mã hóa nguồn phân tán\\n2. Mã hóa kênh phân tán\\n3. Giải mã hợp tác\\nHiệu suất: 150%\"\n",
        "        },\n",
        "        {\n",
        "            \"text_input\": \"Ví dụ 46: Tính độ phức tạp lượng tử\",\n",
        "            \"output\": \"Số phép tính: O(√n)\\nBộ nhớ: O(log n)\\nVới n là kích thước đầu vào\"\n",
        "        },\n",
        "        {\n",
        "            \"text_input\": \"Ví dụ 47: Mã hóa bảo mật cho blockchain\",\n",
        "            \"output\": \"1. Mã hóa khóa công khai\\n2. Chữ ký số\\n3. Hash function\\n4. Mã hóa đồng hình\\nBảo mật: 256 bit\"\n",
        "        },\n",
        "        {\n",
        "            \"text_input\": \"Ví dụ 48: Tính entropy có điều kiện lượng tử\",\n",
        "            \"output\": \"H(A|B) = H(AB) - H(B)\\nVới H là entropy von Neumann\\nKết quả: 0.3 qubit\"\n",
        "        },\n",
        "        {\n",
        "            \"text_input\": \"Ví dụ 49: Mã hóa thích ứng cho AI\",\n",
        "            \"output\": \"1. Mã hóa dựa trên học máy\\n2. Tối ưu hóa tham số\\n3. Học tăng cường\\nHiệu suất: 180%\"\n",
        "        },\n",
        "        {\n",
        "            \"text_input\": \"Ví dụ 50: Tính hiệu suất mã hóa lượng tử\",\n",
        "            \"output\": \"Tỷ lệ mã hóa: 1/2\\nHiệu suất sửa lỗi: 99.9%\\nĐộ trễ: 1ms\"\n",
        "        },\n",
        "        {\n",
        "            \"text_input\": \"Ví dụ 51: Mã hóa mạng cho SDN\",\n",
        "            \"output\": \"1. Mã hóa tuyến tính\\n2. Định tuyến thích ứng\\n3. Cân bằng tải\\nHiệu suất: 250%\"\n",
        "        },\n",
        "        {\n",
        "            \"text_input\": \"Ví dụ 52: Tính độ tin cậy lượng tử\",\n",
        "            \"output\": \"Fidelity: 0.99\\nTỷ lệ lỗi: 0.01\\nĐộ tin cậy: 99%\"\n",
        "        },\n",
        "        {\n",
        "            \"text_input\": \"Ví dụ 53: Mã hóa phân tán cho edge computing\",\n",
        "            \"output\": \"1. Mã hóa nguồn phân tán\\n2. Xử lý biên\\n3. Giải mã hợp tác\\nHiệu suất: 200%\"\n",
        "        },\n",
        "        {\n",
        "            \"text_input\": \"Ví dụ 54: Tính hiệu suất băng thông lượng tử\",\n",
        "            \"output\": \"Băng thông: 1GHz\\nTốc độ qubit: 1Mbps\\nHiệu suất: 1 qubit/Hz\"\n",
        "        },\n",
        "        {\n",
        "            \"text_input\": \"Ví dụ 55: Mã hóa bảo mật cho IoT\",\n",
        "            \"output\": \"1. Mã hóa khóa đối xứng\\n2. Xác thực\\n3. Bảo mật lớp vật lý\\nBảo mật: 128 bit\"\n",
        "        },\n",
        "        {\n",
        "            \"text_input\": \"Ví dụ 56: Tính độ phức tạp mã hóa mạng\",\n",
        "            \"output\": \"Số phép tính: O(n log n)\\nBộ nhớ: O(n)\\nVới n là số nút\"\n",
        "        },\n",
        "        {\n",
        "            \"text_input\": \"Ví dụ 57: Mã hóa thích ứng cho 6G\",\n",
        "            \"output\": \"1. Mã hóa dựa trên AI\\n2. Tối ưu hóa tham số\\n3. Học tăng cường\\nHiệu suất: 300%\"\n",
        "        },\n",
        "        {\n",
        "            \"text_input\": \"Ví dụ 58: Tính hiệu suất mã hóa phân tán\",\n",
        "            \"output\": \"Tỷ lệ mã hóa: 1/2\\nHiệu suất sửa lỗi: 99.99%\\nĐộ trễ: 5ms\"\n",
        "        },\n",
        "        {\n",
        "            \"text_input\": \"Ví dụ 59: Mã hóa lượng tử cho máy tính lượng tử\",\n",
        "            \"output\": \"1. Mã hóa sửa lỗi lượng tử\\n2. Mã hóa topo\\n3. Mã hóa bề mặt\\nHiệu suất: 99.9%\"\n",
        "        },\n",
        "        {\n",
        "            \"text_input\": \"Ví dụ 60: Tính độ tin cậy mạng\",\n",
        "            \"output\": \"Số nút: 1000\\nSố kết nối: 5000\\nĐộ tin cậy: 99.99%\"\n",
        "        },\n",
        "        {\n",
        "            \"text_input\": \"Bài tập 1: Tính entropy của nguồn tin tiếng Việt\",\n",
        "            \"output\": \"Cho nguồn tin tiếng Việt với xác suất các nguyên âm:\\na: 0.15, ă: 0.05, â: 0.05, e: 0.12, ê: 0.08, i: 0.10, o: 0.08, ô: 0.06, ơ: 0.07, u: 0.09, ư: 0.08, y: 0.07\\nH(X) = -∑p(x)log2(p(x)) ≈ 3.45 bit\"\n",
        "        },\n",
        "        {\n",
        "            \"text_input\": \"Bài tập 2: Mã hóa Huffman cho văn bản tiếng Việt\",\n",
        "            \"output\": \"Văn bản: 'Học viện Công nghệ Bưu chính Viễn thông'\\nTần suất: H(1), o(2), c(2), v(1), i(2), n(3), C(1), g(1), B(1), u(1), ch(1), V(1), t(1), h(1)\\nMã hóa: n=00, o=010, i=011, c=100, H=1010, v=1011, C=1100, g=1101, B=1110, u=1111, ch=10000, V=10001, t=10010, h=10011\"\n",
        "        },\n",
        "        {\n",
        "            \"text_input\": \"Bài tập 3: Tính dung lượng kênh truyền số liệu\",\n",
        "            \"output\": \"Kênh truyền số liệu với:\\nBăng thông: 1MHz\\nSNR: 20dB\\nC = B*log2(1 + S/N) = 1*10^6*log2(1 + 100) ≈ 6.66 Mbps\"\n",
        "        },\n",
        "        {\n",
        "            \"text_input\": \"Bài tập 4: Thiết kế mã Hamming cho truyền dữ liệu\",\n",
        "            \"output\": \"Dữ liệu: 1010101\\nMã Hamming (12,8):\\n1. Thêm bit kiểm tra: _1_0_1_0_1_0_1_\\n2. Tính bit kiểm tra: 101010101010\\n3. Có thể sửa 1 bit lỗi\"\n",
        "        },\n",
        "        {\n",
        "            \"text_input\": \"Bài tập 5: Nén dữ liệu văn bản\",\n",
        "            \"output\": \"Văn bản: 'PTIT PTIT PTIT'\\nMã hóa Run-length: 3PTIT\\nTỷ lệ nén: 12/4 = 3\"\n",
        "        },\n",
        "        {\n",
        "            \"text_input\": \"Bài tập 6: Tính lượng tin tương hỗ trong truyền tin\",\n",
        "            \"output\": \"Kênh truyền với:\\np(0|0) = 0.9, p(1|1) = 0.8\\np(0) = 0.6, p(1) = 0.4\\nI(X;Y) = H(X) - H(X|Y) ≈ 0.25 bit\"\n",
        "        },\n",
        "        {\n",
        "            \"text_input\": \"Bài tập 7: Mã hóa số học cho chuỗi DNA\",\n",
        "            \"output\": \"Chuỗi: 'ATCG'\\nKhoảng: [0,1]\\nA: [0,0.25], T: [0.25,0.5], C: [0.5,0.75], G: [0.75,1]\\nKết quả: 0.375\"\n",
        "        },\n",
        "        {\n",
        "            \"text_input\": \"Bài tập 8: Tính tỷ lệ nén ảnh\",\n",
        "            \"output\": \"Ảnh gốc: 1MB\\nẢnh nén JPEG: 200KB\\nTỷ lệ nén: 1000/200 = 5\"\n",
        "        },\n",
        "        {\n",
        "            \"text_input\": \"Bài tập 9: Mã hóa LZ77 cho chuỗi lặp\",\n",
        "            \"output\": \"Chuỗi: 'PTITPTITPTIT'\\nCửa sổ trượt: 4\\nMã hóa: (0,0,P)(0,0,T)(0,0,I)(0,0,T)(4,4,PTIT)(4,4,PTIT)\"\n",
        "        },\n",
        "        {\n",
        "            \"text_input\": \"Bài tập 10: Tính BER trong truyền dữ liệu\",\n",
        "            \"output\": \"Tổng số bit: 10000\\nSố bit lỗi: 10\\nBER = 10/10000 = 0.001 = 0.1%\"\n",
        "        },\n",
        "        {\n",
        "            \"text_input\": \"Bài tập 11: Mã hóa Reed-Solomon cho CD\",\n",
        "            \"output\": \"Dữ liệu: 32 byte\\nMã sửa lỗi: 8 byte\\nCó thể sửa 4 byte lỗi\"\n",
        "        },\n",
        "        {\n",
        "            \"text_input\": \"Bài tập 12: Tính entropy có điều kiện trong truyền tin\",\n",
        "            \"output\": \"H(X|Y) = -∑∑p(x,y)log2(p(x|y))\\nVới p(x|y) là xác suất có điều kiện\\nKết quả: 0.35 bit\"\n",
        "        },\n",
        "        {\n",
        "            \"text_input\": \"Bài tập 13: Mã hóa JPEG cho ảnh màu\",\n",
        "            \"output\": \"1. Chuyển RGB sang YCbCr\\n2. Chia ảnh 8x8\\n3. DCT\\n4. Lượng tử hóa\\n5. Mã hóa entropy\\nTỷ lệ nén: 10:1\"\n",
        "        },\n",
        "        {\n",
        "            \"text_input\": \"Bài tập 14: Tính FER trong truyền gói tin\",\n",
        "            \"output\": \"Tổng số frame: 10000\\nSố frame lỗi: 20\\nFER = 20/10000 = 0.002 = 0.2%\"\n",
        "        },\n",
        "        {\n",
        "            \"text_input\": \"Bài tập 15: Mã hóa MP3 cho âm thanh\",\n",
        "            \"output\": \"1. MDCT\\n2. Mô hình tâm lý âm thanh\\n3. Lượng tử hóa\\n4. Mã hóa Huffman\\nTỷ lệ nén: 11:1\"\n",
        "        },\n",
        "        {\n",
        "            \"text_input\": \"Bài tập 16: Tính SNR trong truyền tín hiệu\",\n",
        "            \"output\": \"Công suất tín hiệu: 100 mW\\nCông suất nhiễu: 1 mW\\nSNR = 10*log10(100/1) = 20 dB\"\n",
        "        },\n",
        "        {\n",
        "            \"text_input\": \"Bài tập 17: Mã hóa H.264 cho video\",\n",
        "            \"output\": \"1. Dự đoán nội khung\\n2. Dự đoán liên khung\\n3. Biến đổi số\\n4. Mã hóa entropy\\nTỷ lệ nén: 50:1\"\n",
        "        },\n",
        "        {\n",
        "            \"text_input\": \"Bài tập 18: Tính tỷ lệ mã hóa kênh\",\n",
        "            \"output\": \"Dữ liệu gốc: 1000 bit\\nDữ liệu mã hóa: 1500 bit\\nTỷ lệ mã hóa: 1500/1000 = 1.5\"\n",
        "        },\n",
        "        {\n",
        "            \"text_input\": \"Bài tập 19: Mã hóa LDPC cho 5G\",\n",
        "            \"output\": \"Ma trận kiểm tra: 2000x4000\\nTỷ lệ mã hóa: 1/2\\nCó thể sửa nhiều lỗi\"\n",
        "        },\n",
        "        {\n",
        "            \"text_input\": \"Bài tập 20: Tính độ dư thừa trong truyền tin\",\n",
        "            \"output\": \"Entropy tối đa: 8 bit\\nEntropy thực tế: 4 bit\\nĐộ dư thừa: 8-4 = 4 bit\"\n",
        "        },\n",
        "        {\n",
        "            \"text_input\": \"Bài tập 21: Mã hóa Polar cho 5G NR\",\n",
        "            \"output\": \"Độ dài mã: 2048 bit\\nSố bit thông tin: 1024 bit\\nTỷ lệ mã hóa: 1/2\\nHiệu suất sửa lỗi: 99.9%\"\n",
        "        },\n",
        "        {\n",
        "            \"text_input\": \"Bài tập 22: Tính hiệu suất kênh MIMO\",\n",
        "            \"output\": \"Số anten phát: 4\\nSố anten thu: 4\\nSNR: 15dB\\nHiệu suất: 4 bit/Hz\"\n",
        "        },\n",
        "        {\n",
        "            \"text_input\": \"Bài tập 23: Mã hóa Turbo cho LTE\",\n",
        "            \"output\": \"1. Mã hóa chập song song\\n2. Hoán vị\\n3. Mã hóa chập thứ hai\\n4. Giải mã lặp 8 lần\\nTỷ lệ mã hóa: 1/3\"\n",
        "        },\n",
        "        {\n",
        "            \"text_input\": \"Bài tập 24: Tính độ trễ trong mạng 5G\",\n",
        "            \"output\": \"Độ trễ truyền: 1ms\\nĐộ trễ xử lý: 2ms\\nĐộ trễ giải mã: 1ms\\nTổng độ trễ: 4ms\"\n",
        "        },\n",
        "        {\n",
        "            \"text_input\": \"Bài tập 25: Mã hóa LDPC cho Wi-Fi 6\",\n",
        "            \"output\": \"Ma trận kiểm tra: 1944x3888\\nTỷ lệ mã hóa: 1/2\\nHiệu suất sửa lỗi: 99.99%\"\n",
        "        },\n",
        "        {\n",
        "            \"text_input\": \"Bài tập 26: Tính hiệu suất nén video 4K\",\n",
        "            \"output\": \"Video gốc: 1GB\\nVideo nén H.265: 100MB\\nTỷ lệ nén: 10:1\"\n",
        "        },\n",
        "        {\n",
        "            \"text_input\": \"Bài tập 27: Mã hóa Convolutional cho Bluetooth\",\n",
        "            \"output\": \"Tỷ lệ mã hóa: 1/3\\nĐộ dài ràng buộc: 7\\nSố trạng thái: 64\"\n",
        "        },\n",
        "        {\n",
        "            \"text_input\": \"Bài tập 28: Tính độ phức tạp giải mã LDPC\",\n",
        "            \"output\": \"Số phép tính: O(n log n)\\nBộ nhớ: O(n)\\nVới n là độ dài mã\"\n",
        "        },\n",
        "        {\n",
        "            \"text_input\": \"Bài tập 29: Mã hóa Viterbi cho GPS\",\n",
        "            \"output\": \"1. Tính metric nhánh\\n2. Cập nhật metric trạng thái\\n3. Lưu vết\\n4. Quyết định đường đi\\nĐộ dài ràng buộc: 7\"\n",
        "        },\n",
        "        {\n",
        "            \"text_input\": \"Bài tập 30: Tính hiệu suất băng thông trong 5G\",\n",
        "            \"output\": \"Băng thông: 100MHz\\nTốc độ bit: 1Gbps\\nHiệu suất: 10 bit/Hz\"\n",
        "        },\n",
        "        {\n",
        "            \"text_input\": \"Bài tập 31: Mã hóa Reed-Muller cho vệ tinh\",\n",
        "            \"output\": \"Độ dài mã: 32 bit\\nBậc: 2\\nSố bit thông tin: 16 bit\"\n",
        "        },\n",
        "        {\n",
        "            \"text_input\": \"Bài tập 32: Tính độ tin cậy trong truyền dữ liệu\",\n",
        "            \"output\": \"Số lần truyền: 10000\\nSố lần thành công: 9990\\nĐộ tin cậy: 99.9%\"\n",
        "        },\n",
        "        {\n",
        "            \"text_input\": \"Bài tập 33: Mã hóa Golay cho RFID\",\n",
        "            \"output\": \"Độ dài mã: 24 bit\\nSố bit thông tin: 12 bit\\nSố bit sửa lỗi: 3 bit\"\n",
        "        },\n",
        "        {\n",
        "            \"text_input\": \"Bài tập 34: Tính hiệu suất năng lượng trong IoT\",\n",
        "            \"output\": \"Công suất tiêu thụ: 10mW\\nTốc độ bit: 100kbps\\nHiệu suất: 100nJ/bit\"\n",
        "        },\n",
        "        {\n",
        "            \"text_input\": \"Bài tập 35: Mã hóa Hadamard cho CDMA\",\n",
        "            \"output\": \"Ma trận: 64x64\\nSố bit thông tin: 6 bit\\nKhoảng cách Hamming: 32\"\n",
        "        },\n",
        "        {\n",
        "            \"text_input\": \"Bài tập 36: Tính độ trễ truyền vệ tinh\",\n",
        "            \"output\": \"Khoảng cách: 36000km\\nTốc độ truyền: 3x10^8 m/s\\nĐộ trễ: 240ms\"\n",
        "        },\n",
        "        {\n",
        "            \"text_input\": \"Bài tập 37: Mã hóa Cyclic cho Ethernet\",\n",
        "            \"output\": \"Đa thức sinh: x^32 + x^26 + x^23 + x^22 + x^16 + x^12 + x^11 + x^10 + x^8 + x^7 + x^5 + x^4 + x^2 + x + 1\\nĐộ dài mã: 32 bit\"\n",
        "        },\n",
        "        {\n",
        "            \"text_input\": \"Bài tập 38: Tính hiệu suất mã hóa trong 6G\",\n",
        "            \"output\": \"Tỷ lệ mã hóa: 1/2\\nHiệu suất sửa lỗi: 99.999%\\nĐộ trễ: 1ms\"\n",
        "        },\n",
        "        {\n",
        "            \"text_input\": \"Bài tập 39: Mã hóa BCH mở rộng cho SSD\",\n",
        "            \"output\": \"Độ dài mã: 63 bit\\nSố bit thông tin: 45 bit\\nSố bit sửa lỗi: 3 bit\"\n",
        "        },\n",
        "        {\n",
        "            \"text_input\": \"Bài tập 40: Tính độ phức tạp giải mã Polar\",\n",
        "            \"output\": \"Số phép tính: O(n log n)\\nBộ nhớ: O(n)\\nVới n là độ dài mã\"\n",
        "        },\n",
        "        {\n",
        "            \"text_input\": \"Bài tập 61: Mã hóa lượng tử cho máy tính lượng tử siêu dẫn\",\n",
        "            \"output\": \"1. Mã hóa surface code\\n2. Đo lường stabilizer\\n3. Sửa lỗi lượng tử\\n4. Đánh giá fidelity\\nHiệu suất: 99.99%\"\n",
        "        },\n",
        "        {\n",
        "            \"text_input\": \"Bài tập 62: Tính entropy lượng tử cho trạng thái Bell\",\n",
        "            \"output\": \"Trạng thái Bell: |Φ+⟩ = (|00⟩ + |11⟩)/√2\\nEntropy von Neumann: S(ρ) = -Tr(ρ log ρ)\\nKết quả: 1 qubit\"\n",
        "        },\n",
        "        {\n",
        "            \"text_input\": \"Bài tập 63: Mã hóa mạng cho mạng cảm biến không dây\",\n",
        "            \"output\": \"1. Mã hóa tuyến tính phân tán\\n2. Tối ưu hóa năng lượng\\n3. Giải mã hợp tác\\nHiệu suất: 180%\"\n",
        "        },\n",
        "        {\n",
        "            \"text_input\": \"Bài tập 64: Tính dung lượng kênh lượng tử có nhiễu\",\n",
        "            \"output\": \"Kênh lượng tử với nhiễu depolarizing:\\nFidelity: 0.95\\nDung lượng: C = max I(A;B)\\nKết quả: 0.6 qubit\"\n",
        "        },\n",
        "        {\n",
        "            \"text_input\": \"Bài tập 65: Mã hóa phân tán cho mạng IoT năng lượng thấp\",\n",
        "            \"output\": \"1. Mã hóa nguồn phân tán\\n2. Tối ưu hóa năng lượng\\n3. Giải mã hợp tác\\nHiệu suất: 160%\"\n",
        "        },\n",
        "        {\n",
        "            \"text_input\": \"Bài tập 66: Tính độ phức tạp lượng tử cho thuật toán Shor\",\n",
        "            \"output\": \"Số phép tính: O((log n)^3)\\nBộ nhớ: O(log n)\\nVới n là số cần phân tích\"\n",
        "        },\n",
        "        {\n",
        "            \"text_input\": \"Bài tập 67: Mã hóa bảo mật cho blockchain thế hệ mới\",\n",
        "            \"output\": \"1. Mã hóa khóa công khai\\n2. Chữ ký số lượng tử\\n3. Hash function lượng tử\\n4. Mã hóa đồng hình\\nBảo mật: 512 bit\"\n",
        "        },\n",
        "        {\n",
        "            \"text_input\": \"Bài tập 68: Tính entropy có điều kiện lượng tử cho trạng thái GHZ\",\n",
        "            \"output\": \"Trạng thái GHZ: |GHZ⟩ = (|000⟩ + |111⟩)/√2\\nH(A|BC) = H(ABC) - H(BC)\\nKết quả: 0 qubit\"\n",
        "        },\n",
        "        {\n",
        "            \"text_input\": \"Bài tập 69: Mã hóa thích ứng cho AI trong 6G\",\n",
        "            \"output\": \"1. Mã hóa dựa trên deep learning\\n2. Tối ưu hóa tham số\\n3. Học tăng cường\\nHiệu suất: 350%\"\n",
        "        },\n",
        "        {\n",
        "            \"text_input\": \"Bài tập 70: Tính hiệu suất mã hóa lượng tử cho QKD\",\n",
        "            \"output\": \"Tỷ lệ mã hóa: 1/2\\nHiệu suất sửa lỗi: 99.999%\\nĐộ trễ: 0.1ms\"\n",
        "        },\n",
        "        {\n",
        "            \"text_input\": \"Bài tập 71: Mã hóa mạng cho SDN thế hệ mới\",\n",
        "            \"output\": \"1. Mã hóa tuyến tính thích ứng\\n2. Định tuyến thông minh\\n3. Cân bằng tải động\\nHiệu suất: 300%\"\n",
        "        },\n",
        "        {\n",
        "            \"text_input\": \"Bài tập 72: Tính độ tin cậy lượng tử cho máy tính lượng tử\",\n",
        "            \"output\": \"Fidelity: 0.999\\nTỷ lệ lỗi: 0.001\\nĐộ tin cậy: 99.9%\"\n",
        "        },\n",
        "        {\n",
        "            \"text_input\": \"Bài tập 73: Mã hóa phân tán cho edge AI\",\n",
        "            \"output\": \"1. Mã hóa nguồn phân tán\\n2. Xử lý AI biên\\n3. Giải mã hợp tác\\nHiệu suất: 250%\"\n",
        "        },\n",
        "        {\n",
        "            \"text_input\": \"Bài tập 74: Tính hiệu suất băng thông lượng tử cho máy tính lượng tử\",\n",
        "            \"output\": \"Băng thông: 100GHz\\nTốc độ qubit: 100Mbps\\nHiệu suất: 1 qubit/Hz\"\n",
        "        },\n",
        "        {\n",
        "            \"text_input\": \"Bài tập 75: Mã hóa bảo mật cho IoT lượng tử\",\n",
        "            \"output\": \"1. Mã hóa khóa đối xứng lượng tử\\n2. Xác thực lượng tử\\n3. Bảo mật lớp vật lý\\nBảo mật: 512 bit\"\n",
        "        },\n",
        "        {\n",
        "            \"text_input\": \"Bài tập 76: Tính độ phức tạp mã hóa mạng cho SDN thế hệ mới\",\n",
        "            \"output\": \"Số phép tính: O(n log n)\\nBộ nhớ: O(n)\\nVới n là số nút\"\n",
        "        },\n",
        "        {\n",
        "            \"text_input\": \"Bài tập 77: Mã hóa thích ứng cho 6G+ với AI\",\n",
        "            \"output\": \"1. Mã hóa dựa trên deep learning\\n2. Tối ưu hóa tham số\\n3. Học tăng cường\\nHiệu suất: 500%\"\n",
        "        },\n",
        "        {\n",
        "            \"text_input\": \"Bài tập 78: Tính hiệu suất mã hóa phân tán cho edge computing thế hệ mới\",\n",
        "            \"output\": \"Tỷ lệ mã hóa: 1/2\\nHiệu suất sửa lỗi: 99.9999%\\nĐộ trễ: 0.1ms\"\n",
        "        },\n",
        "        {\n",
        "            \"text_input\": \"Bài tập 79: Mã hóa lượng tử cho máy tính lượng tử topo thế hệ mới\",\n",
        "            \"output\": \"1. Mã hóa sửa lỗi lượng tử topo\\n2. Mã hóa bề mặt\\n3. Mã hóa color code\\nHiệu suất: 99.999%\"\n",
        "        },\n",
        "        {\n",
        "            \"text_input\": \"Bài tập 80: Tính độ tin cậy mạng cho SDN thế hệ mới\",\n",
        "            \"output\": \"Số nút: 100000\\nSố kết nối: 500000\\nĐộ tin cậy: 99.9999%\"\n",
        "        },\n",
        "        {\n",
        "            \"text_input\": \"Bài tập 81: Mã hóa lượng tử cho truyền thông lượng tử\",\n",
        "            \"output\": \"1. Mã hóa sửa lỗi lượng tử\\n2. Mã hóa topo\\n3. Mã hóa bề mặt\\n4. Đánh giá hiệu suất\\nTốc độ: 1Gbps\"\n",
        "        },\n",
        "        {\n",
        "            \"text_input\": \"Bài tập 82: Tính entropy lượng tử cho trạng thái W\",\n",
        "            \"output\": \"Trạng thái W: |W⟩ = (|001⟩ + |010⟩ + |100⟩)/√3\\nEntropy von Neumann: S(ρ) = -Tr(ρ log ρ)\\nKết quả: 1.585 qubit\"\n",
        "        },\n",
        "        {\n",
        "            \"text_input\": \"Bài tập 83: Mã hóa mạng cho mạng cảm biến thông minh\",\n",
        "            \"output\": \"1. Mã hóa tuyến tính phân tán\\n2. Tối ưu hóa năng lượng\\n3. Giải mã hợp tác\\nHiệu suất: 200%\"\n",
        "        },\n",
        "        {\n",
        "            \"text_input\": \"Bài tập 84: Tính dung lượng kênh lượng tử cho QKD\",\n",
        "            \"output\": \"Kênh lượng tử với nhiễu:\\nFidelity: 0.98\\nDung lượng: C = max I(A;B)\\nKết quả: 0.8 qubit\"\n",
        "        },\n",
        "        {\n",
        "            \"text_input\": \"Bài tập 85: Mã hóa phân tán cho mạng IoT thông minh\",\n",
        "            \"output\": \"1. Mã hóa nguồn phân tán\\n2. Tối ưu hóa năng lượng\\n3. Giải mã hợp tác\\nHiệu suất: 180%\"\n",
        "        },\n",
        "        {\n",
        "            \"text_input\": \"Bài tập 86: Tính độ phức tạp lượng tử cho thuật toán Grover\",\n",
        "            \"output\": \"Số phép tính: O(√n)\\nBộ nhớ: O(log n)\\nVới n là kích thước không gian tìm kiếm\"\n",
        "        },\n",
        "        {\n",
        "            \"text_input\": \"Bài tập 87: Mã hóa bảo mật cho blockchain lượng tử\",\n",
        "            \"output\": \"1. Mã hóa khóa công khai lượng tử\\n2. Chữ ký số lượng tử\\n3. Hash function lượng tử\\n4. Mã hóa đồng hình\\nBảo mật: 1024 bit\"\n",
        "        },\n",
        "        {\n",
        "            \"text_input\": \"Bài tập 88: Tính entropy có điều kiện lượng tử cho trạng thái cluster\",\n",
        "            \"output\": \"Trạng thái cluster: |C⟩ = (|0000⟩ + |0011⟩ + |1100⟩ + |1111⟩)/2\\nH(A|BCD) = H(ABCD) - H(BCD)\\nKết quả: 0.5 qubit\"\n",
        "        },\n",
        "        {\n",
        "            \"text_input\": \"Bài tập 89: Mã hóa thích ứng cho AI trong 6G+\",\n",
        "            \"output\": \"1. Mã hóa dựa trên deep learning\\n2. Tối ưu hóa tham số\\n3. Học tăng cường\\nHiệu suất: 450%\"\n",
        "        },\n",
        "        {\n",
        "            \"text_input\": \"Bài tập 90: Tính hiệu suất mã hóa lượng tử cho máy tính lượng tử\",\n",
        "            \"output\": \"Tỷ lệ mã hóa: 1/2\\nHiệu suất sửa lỗi: 99.9999%\\nĐộ trễ: 0.01ms\"\n",
        "        },\n",
        "        {\n",
        "            \"text_input\": \"Bài tập 91: Mã hóa mạng cho SDN thế hệ mới\",\n",
        "            \"output\": \"1. Mã hóa tuyến tính thích ứng\\n2. Định tuyến thông minh\\n3. Cân bằng tải động\\nHiệu suất: 350%\"\n",
        "        },\n",
        "        {\n",
        "            \"text_input\": \"Bài tập 92: Tính độ tin cậy lượng tử cho QKD\",\n",
        "            \"output\": \"Fidelity: 0.9999\\nTỷ lệ lỗi: 0.0001\\nĐộ tin cậy: 99.99%\"\n",
        "        },\n",
        "        {\n",
        "            \"text_input\": \"Bài tập 93: Mã hóa phân tán cho edge AI thế hệ mới\",\n",
        "            \"output\": \"1. Mã hóa nguồn phân tán\\n2. Xử lý AI biên\\n3. Giải mã hợp tác\\nHiệu suất: 300%\"\n",
        "        },\n",
        "        {\n",
        "            \"text_input\": \"Bài tập 94: Tính hiệu suất băng thông lượng tử cho máy tính lượng tử\",\n",
        "            \"output\": \"Băng thông: 100GHz\\nTốc độ qubit: 100Mbps\\nHiệu suất: 1 qubit/Hz\"\n",
        "        },\n",
        "        {\n",
        "            \"text_input\": \"Bài tập 95: Mã hóa bảo mật cho IoT lượng tử\",\n",
        "            \"output\": \"1. Mã hóa khóa đối xứng lượng tử\\n2. Xác thực lượng tử\\n3. Bảo mật lớp vật lý\\nBảo mật: 512 bit\"\n",
        "        },\n",
        "        {\n",
        "            \"text_input\": \"Bài tập 96: Tính độ phức tạp mã hóa mạng cho SDN thế hệ mới\",\n",
        "            \"output\": \"Số phép tính: O(n log n)\\nBộ nhớ: O(n)\\nVới n là số nút\"\n",
        "        },\n",
        "        {\n",
        "            \"text_input\": \"Bài tập 97: Mã hóa thích ứng cho 6G+ với AI\",\n",
        "            \"output\": \"1. Mã hóa dựa trên deep learning\\n2. Tối ưu hóa tham số\\n3. Học tăng cường\\nHiệu suất: 500%\"\n",
        "        },\n",
        "        {\n",
        "            \"text_input\": \"Bài tập 98: Tính hiệu suất mã hóa phân tán cho edge computing thế hệ mới\",\n",
        "            \"output\": \"Tỷ lệ mã hóa: 1/2\\nHiệu suất sửa lỗi: 99.9999%\\nĐộ trễ: 0.1ms\"\n",
        "        },\n",
        "        {\n",
        "            \"text_input\": \"Bài tập 99: Mã hóa lượng tử cho máy tính lượng tử topo thế hệ mới\",\n",
        "            \"output\": \"1. Mã hóa sửa lỗi lượng tử topo\\n2. Mã hóa bề mặt\\n3. Mã hóa color code\\nHiệu suất: 99.999%\"\n",
        "        },\n",
        "        {\n",
        "            \"text_input\": \"Bài tập 100: Tính độ tin cậy mạng cho SDN thế hệ mới\",\n",
        "            \"output\": \"Số nút: 100000\\nSố kết nối: 500000\\nĐộ tin cậy: 99.9999%\"\n",
        "        }\n",
        "    ]\n",
        "},\n",
        "    id = name,\n",
        "    epoch_count = 100,\n",
        "    batch_size=4,\n",
        "    learning_rate=0.001,\n",
        ")"
      ]
    },
    {
      "cell_type": "markdown",
      "metadata": {
        "id": "-As7ayWDK1w8"
      },
      "source": [
        "Your tuned model is immediately added to the list of tuned models, but its status is set to \"creating\" while the model is tuned."
      ]
    },
    {
      "cell_type": "code",
      "execution_count": 19,
      "metadata": {
        "id": "su64KgY4Uztj",
        "colab": {
          "base_uri": "https://localhost:8080/",
          "height": 416
        },
        "outputId": "c5816ce9-d754-4fe4-ce94-9364b1dc8125"
      },
      "outputs": [
        {
          "output_type": "execute_result",
          "data": {
            "text/plain": [
              "TunedModel(name='tunedModels/generate-num-8455',\n",
              "           source_model='models/gemini-1.5-flash-001-tuning',\n",
              "           base_model='models/gemini-1.5-flash-001-tuning',\n",
              "           display_name='',\n",
              "           description='',\n",
              "           temperature=1.0,\n",
              "           top_p=0.95,\n",
              "           top_k=64,\n",
              "           state=<State.CREATING: 1>,\n",
              "           create_time=datetime.datetime(2025, 5, 10, 13, 42, 41, 946250, tzinfo=datetime.timezone.utc),\n",
              "           update_time=datetime.datetime(2025, 5, 10, 13, 42, 41, 946250, tzinfo=datetime.timezone.utc),\n",
              "           tuning_task=TuningTask(start_time=datetime.datetime(2025, 5, 10, 13, 42, 42, 599639, tzinfo=datetime.timezone.utc),\n",
              "                                  complete_time=None,\n",
              "                                  snapshots=[],\n",
              "                                  hyperparameters=Hyperparameters(epoch_count=100,\n",
              "                                                                  batch_size=4,\n",
              "                                                                  learning_rate=0.001)),\n",
              "           reader_project_numbers=None)"
            ]
          },
          "metadata": {},
          "execution_count": 19
        }
      ],
      "source": [
        "model = genai.get_tuned_model(f'tunedModels/{name}')\n",
        "\n",
        "model"
      ]
    },
    {
      "cell_type": "code",
      "execution_count": 20,
      "metadata": {
        "id": "EUodUwZkKPi-",
        "colab": {
          "base_uri": "https://localhost:8080/"
        },
        "outputId": "9814507d-a2a3-466d-e017-d319569c75c0"
      },
      "outputs": [
        {
          "output_type": "execute_result",
          "data": {
            "text/plain": [
              "<State.CREATING: 1>"
            ]
          },
          "metadata": {},
          "execution_count": 20
        }
      ],
      "source": [
        "model.state"
      ]
    },
    {
      "cell_type": "markdown",
      "metadata": {
        "id": "Pi8X5vkQv-3_"
      },
      "source": [
        "### Check tuning progress"
      ]
    },
    {
      "cell_type": "markdown",
      "metadata": {
        "id": "tWI-vAh4LJIz"
      },
      "source": [
        "Use `metadata` to check the state:"
      ]
    },
    {
      "cell_type": "code",
      "execution_count": 21,
      "metadata": {
        "id": "g08vqtxYLMxT",
        "colab": {
          "base_uri": "https://localhost:8080/"
        },
        "outputId": "30a66a2b-2bf8-467c-d849-e2dd3a1ee2df"
      },
      "outputs": [
        {
          "output_type": "execute_result",
          "data": {
            "text/plain": [
              "total_steps: 100\n",
              "tuned_model: \"tunedModels/generate-num-8455\""
            ]
          },
          "metadata": {},
          "execution_count": 21
        }
      ],
      "source": [
        "operation.metadata"
      ]
    },
    {
      "cell_type": "markdown",
      "metadata": {
        "id": "3lQ6gSMgK-kz"
      },
      "source": [
        "Wait for the training to finish using `operation.result()`, or `operation.wait_bar()`"
      ]
    },
    {
      "cell_type": "code",
      "execution_count": 14,
      "metadata": {
        "id": "SOUowIv1HgSE",
        "colab": {
          "base_uri": "https://localhost:8080/",
          "height": 371,
          "referenced_widgets": [
            "c37a673fae574e85aa469c07e692505c",
            "19173861157b479889eb017d4154b3bb",
            "048fb0503ea7408fa20af742d5fecd68",
            "95fab4241bf8481ba424ed0844daa0ce",
            "2127d121dc344e16b113673fe1d2a726",
            "2848793336644be6a023a389d1b4f762",
            "296dc90edb3e458a9e86da4f85b833e1",
            "fbb672c8a2b24a87b6d271e2db4f2c78",
            "d039935771a04ea1aa5082beb5b570d6",
            "f907f179872a43acb9a9ec9bfb3bbc28",
            "d1959a8d0c504f27a4d4cb7ccae740f8"
          ]
        },
        "outputId": "a6e4fb8d-df26-43ca-f08d-4fb15039548f"
      },
      "outputs": [
        {
          "output_type": "display_data",
          "data": {
            "text/plain": [
              "  0%|          | 0/100 [00:00<?, ?it/s]"
            ],
            "application/vnd.jupyter.widget-view+json": {
              "version_major": 2,
              "version_minor": 0,
              "model_id": "c37a673fae574e85aa469c07e692505c"
            }
          },
          "metadata": {}
        },
        {
          "output_type": "error",
          "ename": "KeyboardInterrupt",
          "evalue": "",
          "traceback": [
            "\u001b[0;31m---------------------------------------------------------------------------\u001b[0m",
            "\u001b[0;31mKeyboardInterrupt\u001b[0m                         Traceback (most recent call last)",
            "\u001b[0;32m<ipython-input-14-8d343619e353>\u001b[0m in \u001b[0;36m<cell line: 0>\u001b[0;34m()\u001b[0m\n\u001b[1;32m      1\u001b[0m \u001b[0;32mimport\u001b[0m \u001b[0mtime\u001b[0m\u001b[0;34m\u001b[0m\u001b[0;34m\u001b[0m\u001b[0m\n\u001b[1;32m      2\u001b[0m \u001b[0;34m\u001b[0m\u001b[0m\n\u001b[0;32m----> 3\u001b[0;31m \u001b[0;32mfor\u001b[0m \u001b[0mstatus\u001b[0m \u001b[0;32min\u001b[0m \u001b[0moperation\u001b[0m\u001b[0;34m.\u001b[0m\u001b[0mwait_bar\u001b[0m\u001b[0;34m(\u001b[0m\u001b[0;34m)\u001b[0m\u001b[0;34m:\u001b[0m\u001b[0;34m\u001b[0m\u001b[0;34m\u001b[0m\u001b[0m\n\u001b[0m\u001b[1;32m      4\u001b[0m   \u001b[0mtime\u001b[0m\u001b[0;34m.\u001b[0m\u001b[0msleep\u001b[0m\u001b[0;34m(\u001b[0m\u001b[0;36m30\u001b[0m\u001b[0;34m)\u001b[0m\u001b[0;34m\u001b[0m\u001b[0;34m\u001b[0m\u001b[0m\n",
            "\u001b[0;32m/usr/local/lib/python3.11/dist-packages/google/generativeai/operations.py\u001b[0m in \u001b[0;36mwait_bar\u001b[0;34m(self, **kwargs)\u001b[0m\n\u001b[1;32m    124\u001b[0m \u001b[0;34m\u001b[0m\u001b[0m\n\u001b[1;32m    125\u001b[0m         \u001b[0;31m# done() includes a `_refresh_and_update`\u001b[0m\u001b[0;34m\u001b[0m\u001b[0;34m\u001b[0m\u001b[0m\n\u001b[0;32m--> 126\u001b[0;31m         \u001b[0;32mwhile\u001b[0m \u001b[0;32mnot\u001b[0m \u001b[0mself\u001b[0m\u001b[0;34m.\u001b[0m\u001b[0mdone\u001b[0m\u001b[0;34m(\u001b[0m\u001b[0;34m)\u001b[0m\u001b[0;34m:\u001b[0m\u001b[0;34m\u001b[0m\u001b[0;34m\u001b[0m\u001b[0m\n\u001b[0m\u001b[1;32m    127\u001b[0m             \u001b[0mmetadata\u001b[0m \u001b[0;34m=\u001b[0m \u001b[0mself\u001b[0m\u001b[0;34m.\u001b[0m\u001b[0mmetadata\u001b[0m\u001b[0;34m\u001b[0m\u001b[0;34m\u001b[0m\u001b[0m\n\u001b[1;32m    128\u001b[0m             \u001b[0mbar\u001b[0m\u001b[0;34m.\u001b[0m\u001b[0mupdate\u001b[0m\u001b[0;34m(\u001b[0m\u001b[0mself\u001b[0m\u001b[0;34m.\u001b[0m\u001b[0mmetadata\u001b[0m\u001b[0;34m.\u001b[0m\u001b[0mcompleted_steps\u001b[0m \u001b[0;34m-\u001b[0m \u001b[0mbar\u001b[0m\u001b[0;34m.\u001b[0m\u001b[0mn\u001b[0m\u001b[0;34m)\u001b[0m\u001b[0;34m\u001b[0m\u001b[0;34m\u001b[0m\u001b[0m\n",
            "\u001b[0;32m/usr/local/lib/python3.11/dist-packages/google/api_core/operation.py\u001b[0m in \u001b[0;36mdone\u001b[0;34m(self, retry)\u001b[0m\n\u001b[1;32m    172\u001b[0m             \u001b[0mbool\u001b[0m\u001b[0;34m:\u001b[0m \u001b[0;32mTrue\u001b[0m \u001b[0;32mif\u001b[0m \u001b[0mthe\u001b[0m \u001b[0moperation\u001b[0m \u001b[0;32mis\u001b[0m \u001b[0mcomplete\u001b[0m\u001b[0;34m,\u001b[0m \u001b[0;32mFalse\u001b[0m \u001b[0motherwise\u001b[0m\u001b[0;34m.\u001b[0m\u001b[0;34m\u001b[0m\u001b[0;34m\u001b[0m\u001b[0m\n\u001b[1;32m    173\u001b[0m         \"\"\"\n\u001b[0;32m--> 174\u001b[0;31m         \u001b[0mself\u001b[0m\u001b[0;34m.\u001b[0m\u001b[0m_refresh_and_update\u001b[0m\u001b[0;34m(\u001b[0m\u001b[0mretry\u001b[0m\u001b[0;34m)\u001b[0m\u001b[0;34m\u001b[0m\u001b[0;34m\u001b[0m\u001b[0m\n\u001b[0m\u001b[1;32m    175\u001b[0m         \u001b[0;32mreturn\u001b[0m \u001b[0mself\u001b[0m\u001b[0;34m.\u001b[0m\u001b[0m_operation\u001b[0m\u001b[0;34m.\u001b[0m\u001b[0mdone\u001b[0m\u001b[0;34m\u001b[0m\u001b[0;34m\u001b[0m\u001b[0m\n\u001b[1;32m    176\u001b[0m \u001b[0;34m\u001b[0m\u001b[0m\n",
            "\u001b[0;32m/usr/local/lib/python3.11/dist-packages/google/api_core/operation.py\u001b[0m in \u001b[0;36m_refresh_and_update\u001b[0;34m(self, retry)\u001b[0m\n\u001b[1;32m    160\u001b[0m         \u001b[0;31m# RPC as it will not change once done.\u001b[0m\u001b[0;34m\u001b[0m\u001b[0;34m\u001b[0m\u001b[0m\n\u001b[1;32m    161\u001b[0m         \u001b[0;32mif\u001b[0m \u001b[0;32mnot\u001b[0m \u001b[0mself\u001b[0m\u001b[0;34m.\u001b[0m\u001b[0m_operation\u001b[0m\u001b[0;34m.\u001b[0m\u001b[0mdone\u001b[0m\u001b[0;34m:\u001b[0m\u001b[0;34m\u001b[0m\u001b[0;34m\u001b[0m\u001b[0m\n\u001b[0;32m--> 162\u001b[0;31m             \u001b[0mself\u001b[0m\u001b[0;34m.\u001b[0m\u001b[0m_operation\u001b[0m \u001b[0;34m=\u001b[0m \u001b[0mself\u001b[0m\u001b[0;34m.\u001b[0m\u001b[0m_refresh\u001b[0m\u001b[0;34m(\u001b[0m\u001b[0mretry\u001b[0m\u001b[0;34m=\u001b[0m\u001b[0mretry\u001b[0m\u001b[0;34m)\u001b[0m \u001b[0;32mif\u001b[0m \u001b[0mretry\u001b[0m \u001b[0;32melse\u001b[0m \u001b[0mself\u001b[0m\u001b[0;34m.\u001b[0m\u001b[0m_refresh\u001b[0m\u001b[0;34m(\u001b[0m\u001b[0;34m)\u001b[0m\u001b[0;34m\u001b[0m\u001b[0;34m\u001b[0m\u001b[0m\n\u001b[0m\u001b[1;32m    163\u001b[0m             \u001b[0mself\u001b[0m\u001b[0;34m.\u001b[0m\u001b[0m_set_result_from_operation\u001b[0m\u001b[0;34m(\u001b[0m\u001b[0;34m)\u001b[0m\u001b[0;34m\u001b[0m\u001b[0;34m\u001b[0m\u001b[0m\n\u001b[1;32m    164\u001b[0m \u001b[0;34m\u001b[0m\u001b[0m\n",
            "\u001b[0;32m/usr/local/lib/python3.11/dist-packages/google/api_core/operations_v1/abstract_operations_client.py\u001b[0m in \u001b[0;36mget_operation\u001b[0;34m(self, name, retry, timeout, compression, metadata)\u001b[0m\n\u001b[1;32m    267\u001b[0m \u001b[0;34m\u001b[0m\u001b[0m\n\u001b[1;32m    268\u001b[0m         \u001b[0;31m# Send the request.\u001b[0m\u001b[0;34m\u001b[0m\u001b[0;34m\u001b[0m\u001b[0m\n\u001b[0;32m--> 269\u001b[0;31m         response = rpc(\n\u001b[0m\u001b[1;32m    270\u001b[0m             \u001b[0mrequest\u001b[0m\u001b[0;34m,\u001b[0m\u001b[0;34m\u001b[0m\u001b[0;34m\u001b[0m\u001b[0m\n\u001b[1;32m    271\u001b[0m             \u001b[0mretry\u001b[0m\u001b[0;34m=\u001b[0m\u001b[0mretry\u001b[0m\u001b[0;34m,\u001b[0m\u001b[0;34m\u001b[0m\u001b[0;34m\u001b[0m\u001b[0m\n",
            "\u001b[0;32m/usr/local/lib/python3.11/dist-packages/google/api_core/gapic_v1/method.py\u001b[0m in \u001b[0;36m__call__\u001b[0;34m(self, timeout, retry, compression, *args, **kwargs)\u001b[0m\n\u001b[1;32m    129\u001b[0m             \u001b[0mkwargs\u001b[0m\u001b[0;34m[\u001b[0m\u001b[0;34m\"compression\"\u001b[0m\u001b[0;34m]\u001b[0m \u001b[0;34m=\u001b[0m \u001b[0mcompression\u001b[0m\u001b[0;34m\u001b[0m\u001b[0;34m\u001b[0m\u001b[0m\n\u001b[1;32m    130\u001b[0m \u001b[0;34m\u001b[0m\u001b[0m\n\u001b[0;32m--> 131\u001b[0;31m         \u001b[0;32mreturn\u001b[0m \u001b[0mwrapped_func\u001b[0m\u001b[0;34m(\u001b[0m\u001b[0;34m*\u001b[0m\u001b[0margs\u001b[0m\u001b[0;34m,\u001b[0m \u001b[0;34m**\u001b[0m\u001b[0mkwargs\u001b[0m\u001b[0;34m)\u001b[0m\u001b[0;34m\u001b[0m\u001b[0;34m\u001b[0m\u001b[0m\n\u001b[0m\u001b[1;32m    132\u001b[0m \u001b[0;34m\u001b[0m\u001b[0m\n\u001b[1;32m    133\u001b[0m \u001b[0;34m\u001b[0m\u001b[0m\n",
            "\u001b[0;32m/usr/local/lib/python3.11/dist-packages/google/api_core/retry/retry_unary.py\u001b[0m in \u001b[0;36mretry_wrapped_func\u001b[0;34m(*args, **kwargs)\u001b[0m\n\u001b[1;32m    291\u001b[0m                 \u001b[0mself\u001b[0m\u001b[0;34m.\u001b[0m\u001b[0m_initial\u001b[0m\u001b[0;34m,\u001b[0m \u001b[0mself\u001b[0m\u001b[0;34m.\u001b[0m\u001b[0m_maximum\u001b[0m\u001b[0;34m,\u001b[0m \u001b[0mmultiplier\u001b[0m\u001b[0;34m=\u001b[0m\u001b[0mself\u001b[0m\u001b[0;34m.\u001b[0m\u001b[0m_multiplier\u001b[0m\u001b[0;34m\u001b[0m\u001b[0;34m\u001b[0m\u001b[0m\n\u001b[1;32m    292\u001b[0m             )\n\u001b[0;32m--> 293\u001b[0;31m             return retry_target(\n\u001b[0m\u001b[1;32m    294\u001b[0m                 \u001b[0mtarget\u001b[0m\u001b[0;34m,\u001b[0m\u001b[0;34m\u001b[0m\u001b[0;34m\u001b[0m\u001b[0m\n\u001b[1;32m    295\u001b[0m                 \u001b[0mself\u001b[0m\u001b[0;34m.\u001b[0m\u001b[0m_predicate\u001b[0m\u001b[0;34m,\u001b[0m\u001b[0;34m\u001b[0m\u001b[0;34m\u001b[0m\u001b[0m\n",
            "\u001b[0;32m/usr/local/lib/python3.11/dist-packages/google/api_core/retry/retry_unary.py\u001b[0m in \u001b[0;36mretry_target\u001b[0;34m(target, predicate, sleep_generator, timeout, on_error, exception_factory, **kwargs)\u001b[0m\n\u001b[1;32m    142\u001b[0m     \u001b[0;32mfor\u001b[0m \u001b[0msleep\u001b[0m \u001b[0;32min\u001b[0m \u001b[0msleep_generator\u001b[0m\u001b[0;34m:\u001b[0m\u001b[0;34m\u001b[0m\u001b[0;34m\u001b[0m\u001b[0m\n\u001b[1;32m    143\u001b[0m         \u001b[0;32mtry\u001b[0m\u001b[0;34m:\u001b[0m\u001b[0;34m\u001b[0m\u001b[0;34m\u001b[0m\u001b[0m\n\u001b[0;32m--> 144\u001b[0;31m             \u001b[0mresult\u001b[0m \u001b[0;34m=\u001b[0m \u001b[0mtarget\u001b[0m\u001b[0;34m(\u001b[0m\u001b[0;34m)\u001b[0m\u001b[0;34m\u001b[0m\u001b[0;34m\u001b[0m\u001b[0m\n\u001b[0m\u001b[1;32m    145\u001b[0m             \u001b[0;32mif\u001b[0m \u001b[0minspect\u001b[0m\u001b[0;34m.\u001b[0m\u001b[0misawaitable\u001b[0m\u001b[0;34m(\u001b[0m\u001b[0mresult\u001b[0m\u001b[0;34m)\u001b[0m\u001b[0;34m:\u001b[0m\u001b[0;34m\u001b[0m\u001b[0;34m\u001b[0m\u001b[0m\n\u001b[1;32m    146\u001b[0m                 \u001b[0mwarnings\u001b[0m\u001b[0;34m.\u001b[0m\u001b[0mwarn\u001b[0m\u001b[0;34m(\u001b[0m\u001b[0m_ASYNC_RETRY_WARNING\u001b[0m\u001b[0;34m)\u001b[0m\u001b[0;34m\u001b[0m\u001b[0;34m\u001b[0m\u001b[0m\n",
            "\u001b[0;32m/usr/local/lib/python3.11/dist-packages/google/api_core/grpc_helpers.py\u001b[0m in \u001b[0;36merror_remapped_callable\u001b[0;34m(*args, **kwargs)\u001b[0m\n\u001b[1;32m     74\u001b[0m     \u001b[0;32mdef\u001b[0m \u001b[0merror_remapped_callable\u001b[0m\u001b[0;34m(\u001b[0m\u001b[0;34m*\u001b[0m\u001b[0margs\u001b[0m\u001b[0;34m,\u001b[0m \u001b[0;34m**\u001b[0m\u001b[0mkwargs\u001b[0m\u001b[0;34m)\u001b[0m\u001b[0;34m:\u001b[0m\u001b[0;34m\u001b[0m\u001b[0;34m\u001b[0m\u001b[0m\n\u001b[1;32m     75\u001b[0m         \u001b[0;32mtry\u001b[0m\u001b[0;34m:\u001b[0m\u001b[0;34m\u001b[0m\u001b[0;34m\u001b[0m\u001b[0m\n\u001b[0;32m---> 76\u001b[0;31m             \u001b[0;32mreturn\u001b[0m \u001b[0mcallable_\u001b[0m\u001b[0;34m(\u001b[0m\u001b[0;34m*\u001b[0m\u001b[0margs\u001b[0m\u001b[0;34m,\u001b[0m \u001b[0;34m**\u001b[0m\u001b[0mkwargs\u001b[0m\u001b[0;34m)\u001b[0m\u001b[0;34m\u001b[0m\u001b[0;34m\u001b[0m\u001b[0m\n\u001b[0m\u001b[1;32m     77\u001b[0m         \u001b[0;32mexcept\u001b[0m \u001b[0mgrpc\u001b[0m\u001b[0;34m.\u001b[0m\u001b[0mRpcError\u001b[0m \u001b[0;32mas\u001b[0m \u001b[0mexc\u001b[0m\u001b[0;34m:\u001b[0m\u001b[0;34m\u001b[0m\u001b[0;34m\u001b[0m\u001b[0m\n\u001b[1;32m     78\u001b[0m             \u001b[0;32mraise\u001b[0m \u001b[0mexceptions\u001b[0m\u001b[0;34m.\u001b[0m\u001b[0mfrom_grpc_error\u001b[0m\u001b[0;34m(\u001b[0m\u001b[0mexc\u001b[0m\u001b[0;34m)\u001b[0m \u001b[0;32mfrom\u001b[0m \u001b[0mexc\u001b[0m\u001b[0;34m\u001b[0m\u001b[0;34m\u001b[0m\u001b[0m\n",
            "\u001b[0;32m/usr/local/lib/python3.11/dist-packages/google/api_core/operations_v1/transports/rest.py\u001b[0m in \u001b[0;36m_get_operation\u001b[0;34m(self, request, retry, timeout, compression, metadata)\u001b[0m\n\u001b[1;32m    291\u001b[0m         \u001b[0mheaders\u001b[0m\u001b[0;34m[\u001b[0m\u001b[0;34m\"Content-Type\"\u001b[0m\u001b[0;34m]\u001b[0m \u001b[0;34m=\u001b[0m \u001b[0;34m\"application/json\"\u001b[0m\u001b[0;34m\u001b[0m\u001b[0;34m\u001b[0m\u001b[0m\n\u001b[1;32m    292\u001b[0m         \u001b[0;31m# TODO(https://github.com/googleapis/python-api-core/issues/721): Update incorrect use of `uri`` variable name.\u001b[0m\u001b[0;34m\u001b[0m\u001b[0;34m\u001b[0m\u001b[0m\n\u001b[0;32m--> 293\u001b[0;31m         response = getattr(self._session, method)(\n\u001b[0m\u001b[1;32m    294\u001b[0m             \u001b[0;34m\"{host}{uri}\"\u001b[0m\u001b[0;34m.\u001b[0m\u001b[0mformat\u001b[0m\u001b[0;34m(\u001b[0m\u001b[0mhost\u001b[0m\u001b[0;34m=\u001b[0m\u001b[0mself\u001b[0m\u001b[0;34m.\u001b[0m\u001b[0m_host\u001b[0m\u001b[0;34m,\u001b[0m \u001b[0muri\u001b[0m\u001b[0;34m=\u001b[0m\u001b[0muri\u001b[0m\u001b[0;34m)\u001b[0m\u001b[0;34m,\u001b[0m\u001b[0;34m\u001b[0m\u001b[0;34m\u001b[0m\u001b[0m\n\u001b[1;32m    295\u001b[0m             \u001b[0mtimeout\u001b[0m\u001b[0;34m=\u001b[0m\u001b[0mtimeout\u001b[0m\u001b[0;34m,\u001b[0m\u001b[0;34m\u001b[0m\u001b[0;34m\u001b[0m\u001b[0m\n",
            "\u001b[0;32m/usr/local/lib/python3.11/dist-packages/requests/sessions.py\u001b[0m in \u001b[0;36mget\u001b[0;34m(self, url, **kwargs)\u001b[0m\n\u001b[1;32m    600\u001b[0m \u001b[0;34m\u001b[0m\u001b[0m\n\u001b[1;32m    601\u001b[0m         \u001b[0mkwargs\u001b[0m\u001b[0;34m.\u001b[0m\u001b[0msetdefault\u001b[0m\u001b[0;34m(\u001b[0m\u001b[0;34m\"allow_redirects\"\u001b[0m\u001b[0;34m,\u001b[0m \u001b[0;32mTrue\u001b[0m\u001b[0;34m)\u001b[0m\u001b[0;34m\u001b[0m\u001b[0;34m\u001b[0m\u001b[0m\n\u001b[0;32m--> 602\u001b[0;31m         \u001b[0;32mreturn\u001b[0m \u001b[0mself\u001b[0m\u001b[0;34m.\u001b[0m\u001b[0mrequest\u001b[0m\u001b[0;34m(\u001b[0m\u001b[0;34m\"GET\"\u001b[0m\u001b[0;34m,\u001b[0m \u001b[0murl\u001b[0m\u001b[0;34m,\u001b[0m \u001b[0;34m**\u001b[0m\u001b[0mkwargs\u001b[0m\u001b[0;34m)\u001b[0m\u001b[0;34m\u001b[0m\u001b[0;34m\u001b[0m\u001b[0m\n\u001b[0m\u001b[1;32m    603\u001b[0m \u001b[0;34m\u001b[0m\u001b[0m\n\u001b[1;32m    604\u001b[0m     \u001b[0;32mdef\u001b[0m \u001b[0moptions\u001b[0m\u001b[0;34m(\u001b[0m\u001b[0mself\u001b[0m\u001b[0;34m,\u001b[0m \u001b[0murl\u001b[0m\u001b[0;34m,\u001b[0m \u001b[0;34m**\u001b[0m\u001b[0mkwargs\u001b[0m\u001b[0;34m)\u001b[0m\u001b[0;34m:\u001b[0m\u001b[0;34m\u001b[0m\u001b[0;34m\u001b[0m\u001b[0m\n",
            "\u001b[0;32m/usr/local/lib/python3.11/dist-packages/google/auth/transport/requests.py\u001b[0m in \u001b[0;36mrequest\u001b[0;34m(self, method, url, data, headers, max_allowed_time, timeout, **kwargs)\u001b[0m\n\u001b[1;32m    535\u001b[0m \u001b[0;34m\u001b[0m\u001b[0m\n\u001b[1;32m    536\u001b[0m         \u001b[0;32mwith\u001b[0m \u001b[0mTimeoutGuard\u001b[0m\u001b[0;34m(\u001b[0m\u001b[0mremaining_time\u001b[0m\u001b[0;34m)\u001b[0m \u001b[0;32mas\u001b[0m \u001b[0mguard\u001b[0m\u001b[0;34m:\u001b[0m\u001b[0;34m\u001b[0m\u001b[0;34m\u001b[0m\u001b[0m\n\u001b[0;32m--> 537\u001b[0;31m             response = super(AuthorizedSession, self).request(\n\u001b[0m\u001b[1;32m    538\u001b[0m                 \u001b[0mmethod\u001b[0m\u001b[0;34m,\u001b[0m\u001b[0;34m\u001b[0m\u001b[0;34m\u001b[0m\u001b[0m\n\u001b[1;32m    539\u001b[0m                 \u001b[0murl\u001b[0m\u001b[0;34m,\u001b[0m\u001b[0;34m\u001b[0m\u001b[0;34m\u001b[0m\u001b[0m\n",
            "\u001b[0;32m/usr/local/lib/python3.11/dist-packages/requests/sessions.py\u001b[0m in \u001b[0;36mrequest\u001b[0;34m(self, method, url, params, data, headers, cookies, files, auth, timeout, allow_redirects, proxies, hooks, stream, verify, cert, json)\u001b[0m\n\u001b[1;32m    587\u001b[0m         }\n\u001b[1;32m    588\u001b[0m         \u001b[0msend_kwargs\u001b[0m\u001b[0;34m.\u001b[0m\u001b[0mupdate\u001b[0m\u001b[0;34m(\u001b[0m\u001b[0msettings\u001b[0m\u001b[0;34m)\u001b[0m\u001b[0;34m\u001b[0m\u001b[0;34m\u001b[0m\u001b[0m\n\u001b[0;32m--> 589\u001b[0;31m         \u001b[0mresp\u001b[0m \u001b[0;34m=\u001b[0m \u001b[0mself\u001b[0m\u001b[0;34m.\u001b[0m\u001b[0msend\u001b[0m\u001b[0;34m(\u001b[0m\u001b[0mprep\u001b[0m\u001b[0;34m,\u001b[0m \u001b[0;34m**\u001b[0m\u001b[0msend_kwargs\u001b[0m\u001b[0;34m)\u001b[0m\u001b[0;34m\u001b[0m\u001b[0;34m\u001b[0m\u001b[0m\n\u001b[0m\u001b[1;32m    590\u001b[0m \u001b[0;34m\u001b[0m\u001b[0m\n\u001b[1;32m    591\u001b[0m         \u001b[0;32mreturn\u001b[0m \u001b[0mresp\u001b[0m\u001b[0;34m\u001b[0m\u001b[0;34m\u001b[0m\u001b[0m\n",
            "\u001b[0;32m/usr/local/lib/python3.11/dist-packages/requests/sessions.py\u001b[0m in \u001b[0;36msend\u001b[0;34m(self, request, **kwargs)\u001b[0m\n\u001b[1;32m    701\u001b[0m \u001b[0;34m\u001b[0m\u001b[0m\n\u001b[1;32m    702\u001b[0m         \u001b[0;31m# Send the request\u001b[0m\u001b[0;34m\u001b[0m\u001b[0;34m\u001b[0m\u001b[0m\n\u001b[0;32m--> 703\u001b[0;31m         \u001b[0mr\u001b[0m \u001b[0;34m=\u001b[0m \u001b[0madapter\u001b[0m\u001b[0;34m.\u001b[0m\u001b[0msend\u001b[0m\u001b[0;34m(\u001b[0m\u001b[0mrequest\u001b[0m\u001b[0;34m,\u001b[0m \u001b[0;34m**\u001b[0m\u001b[0mkwargs\u001b[0m\u001b[0;34m)\u001b[0m\u001b[0;34m\u001b[0m\u001b[0;34m\u001b[0m\u001b[0m\n\u001b[0m\u001b[1;32m    704\u001b[0m \u001b[0;34m\u001b[0m\u001b[0m\n\u001b[1;32m    705\u001b[0m         \u001b[0;31m# Total elapsed time of the request (approximately)\u001b[0m\u001b[0;34m\u001b[0m\u001b[0;34m\u001b[0m\u001b[0m\n",
            "\u001b[0;32m/usr/local/lib/python3.11/dist-packages/requests/adapters.py\u001b[0m in \u001b[0;36msend\u001b[0;34m(self, request, stream, timeout, verify, cert, proxies)\u001b[0m\n\u001b[1;32m    665\u001b[0m \u001b[0;34m\u001b[0m\u001b[0m\n\u001b[1;32m    666\u001b[0m         \u001b[0;32mtry\u001b[0m\u001b[0;34m:\u001b[0m\u001b[0;34m\u001b[0m\u001b[0;34m\u001b[0m\u001b[0m\n\u001b[0;32m--> 667\u001b[0;31m             resp = conn.urlopen(\n\u001b[0m\u001b[1;32m    668\u001b[0m                 \u001b[0mmethod\u001b[0m\u001b[0;34m=\u001b[0m\u001b[0mrequest\u001b[0m\u001b[0;34m.\u001b[0m\u001b[0mmethod\u001b[0m\u001b[0;34m,\u001b[0m\u001b[0;34m\u001b[0m\u001b[0;34m\u001b[0m\u001b[0m\n\u001b[1;32m    669\u001b[0m                 \u001b[0murl\u001b[0m\u001b[0;34m=\u001b[0m\u001b[0murl\u001b[0m\u001b[0;34m,\u001b[0m\u001b[0;34m\u001b[0m\u001b[0;34m\u001b[0m\u001b[0m\n",
            "\u001b[0;32m/usr/local/lib/python3.11/dist-packages/urllib3/connectionpool.py\u001b[0m in \u001b[0;36murlopen\u001b[0;34m(self, method, url, body, headers, retries, redirect, assert_same_host, timeout, pool_timeout, release_conn, chunked, body_pos, preload_content, decode_content, **response_kw)\u001b[0m\n\u001b[1;32m    785\u001b[0m \u001b[0;34m\u001b[0m\u001b[0m\n\u001b[1;32m    786\u001b[0m             \u001b[0;31m# Make the request on the HTTPConnection object\u001b[0m\u001b[0;34m\u001b[0m\u001b[0;34m\u001b[0m\u001b[0m\n\u001b[0;32m--> 787\u001b[0;31m             response = self._make_request(\n\u001b[0m\u001b[1;32m    788\u001b[0m                 \u001b[0mconn\u001b[0m\u001b[0;34m,\u001b[0m\u001b[0;34m\u001b[0m\u001b[0;34m\u001b[0m\u001b[0m\n\u001b[1;32m    789\u001b[0m                 \u001b[0mmethod\u001b[0m\u001b[0;34m,\u001b[0m\u001b[0;34m\u001b[0m\u001b[0;34m\u001b[0m\u001b[0m\n",
            "\u001b[0;32m/usr/local/lib/python3.11/dist-packages/urllib3/connectionpool.py\u001b[0m in \u001b[0;36m_make_request\u001b[0;34m(self, conn, method, url, body, headers, retries, timeout, chunked, response_conn, preload_content, decode_content, enforce_content_length)\u001b[0m\n\u001b[1;32m    532\u001b[0m         \u001b[0;31m# Receive the response from the server\u001b[0m\u001b[0;34m\u001b[0m\u001b[0;34m\u001b[0m\u001b[0m\n\u001b[1;32m    533\u001b[0m         \u001b[0;32mtry\u001b[0m\u001b[0;34m:\u001b[0m\u001b[0;34m\u001b[0m\u001b[0;34m\u001b[0m\u001b[0m\n\u001b[0;32m--> 534\u001b[0;31m             \u001b[0mresponse\u001b[0m \u001b[0;34m=\u001b[0m \u001b[0mconn\u001b[0m\u001b[0;34m.\u001b[0m\u001b[0mgetresponse\u001b[0m\u001b[0;34m(\u001b[0m\u001b[0;34m)\u001b[0m\u001b[0;34m\u001b[0m\u001b[0;34m\u001b[0m\u001b[0m\n\u001b[0m\u001b[1;32m    535\u001b[0m         \u001b[0;32mexcept\u001b[0m \u001b[0;34m(\u001b[0m\u001b[0mBaseSSLError\u001b[0m\u001b[0;34m,\u001b[0m \u001b[0mOSError\u001b[0m\u001b[0;34m)\u001b[0m \u001b[0;32mas\u001b[0m \u001b[0me\u001b[0m\u001b[0;34m:\u001b[0m\u001b[0;34m\u001b[0m\u001b[0;34m\u001b[0m\u001b[0m\n\u001b[1;32m    536\u001b[0m             \u001b[0mself\u001b[0m\u001b[0;34m.\u001b[0m\u001b[0m_raise_timeout\u001b[0m\u001b[0;34m(\u001b[0m\u001b[0merr\u001b[0m\u001b[0;34m=\u001b[0m\u001b[0me\u001b[0m\u001b[0;34m,\u001b[0m \u001b[0murl\u001b[0m\u001b[0;34m=\u001b[0m\u001b[0murl\u001b[0m\u001b[0;34m,\u001b[0m \u001b[0mtimeout_value\u001b[0m\u001b[0;34m=\u001b[0m\u001b[0mread_timeout\u001b[0m\u001b[0;34m)\u001b[0m\u001b[0;34m\u001b[0m\u001b[0;34m\u001b[0m\u001b[0m\n",
            "\u001b[0;32m/usr/local/lib/python3.11/dist-packages/urllib3/connection.py\u001b[0m in \u001b[0;36mgetresponse\u001b[0;34m(self)\u001b[0m\n\u001b[1;32m    514\u001b[0m \u001b[0;34m\u001b[0m\u001b[0m\n\u001b[1;32m    515\u001b[0m         \u001b[0;31m# Get the response from http.client.HTTPConnection\u001b[0m\u001b[0;34m\u001b[0m\u001b[0;34m\u001b[0m\u001b[0m\n\u001b[0;32m--> 516\u001b[0;31m         \u001b[0mhttplib_response\u001b[0m \u001b[0;34m=\u001b[0m \u001b[0msuper\u001b[0m\u001b[0;34m(\u001b[0m\u001b[0;34m)\u001b[0m\u001b[0;34m.\u001b[0m\u001b[0mgetresponse\u001b[0m\u001b[0;34m(\u001b[0m\u001b[0;34m)\u001b[0m\u001b[0;34m\u001b[0m\u001b[0;34m\u001b[0m\u001b[0m\n\u001b[0m\u001b[1;32m    517\u001b[0m \u001b[0;34m\u001b[0m\u001b[0m\n\u001b[1;32m    518\u001b[0m         \u001b[0;32mtry\u001b[0m\u001b[0;34m:\u001b[0m\u001b[0;34m\u001b[0m\u001b[0;34m\u001b[0m\u001b[0m\n",
            "\u001b[0;32m/usr/lib/python3.11/http/client.py\u001b[0m in \u001b[0;36mgetresponse\u001b[0;34m(self)\u001b[0m\n\u001b[1;32m   1393\u001b[0m         \u001b[0;32mtry\u001b[0m\u001b[0;34m:\u001b[0m\u001b[0;34m\u001b[0m\u001b[0;34m\u001b[0m\u001b[0m\n\u001b[1;32m   1394\u001b[0m             \u001b[0;32mtry\u001b[0m\u001b[0;34m:\u001b[0m\u001b[0;34m\u001b[0m\u001b[0;34m\u001b[0m\u001b[0m\n\u001b[0;32m-> 1395\u001b[0;31m                 \u001b[0mresponse\u001b[0m\u001b[0;34m.\u001b[0m\u001b[0mbegin\u001b[0m\u001b[0;34m(\u001b[0m\u001b[0;34m)\u001b[0m\u001b[0;34m\u001b[0m\u001b[0;34m\u001b[0m\u001b[0m\n\u001b[0m\u001b[1;32m   1396\u001b[0m             \u001b[0;32mexcept\u001b[0m \u001b[0mConnectionError\u001b[0m\u001b[0;34m:\u001b[0m\u001b[0;34m\u001b[0m\u001b[0;34m\u001b[0m\u001b[0m\n\u001b[1;32m   1397\u001b[0m                 \u001b[0mself\u001b[0m\u001b[0;34m.\u001b[0m\u001b[0mclose\u001b[0m\u001b[0;34m(\u001b[0m\u001b[0;34m)\u001b[0m\u001b[0;34m\u001b[0m\u001b[0;34m\u001b[0m\u001b[0m\n",
            "\u001b[0;32m/usr/lib/python3.11/http/client.py\u001b[0m in \u001b[0;36mbegin\u001b[0;34m(self)\u001b[0m\n\u001b[1;32m    323\u001b[0m         \u001b[0;31m# read until we get a non-100 response\u001b[0m\u001b[0;34m\u001b[0m\u001b[0;34m\u001b[0m\u001b[0m\n\u001b[1;32m    324\u001b[0m         \u001b[0;32mwhile\u001b[0m \u001b[0;32mTrue\u001b[0m\u001b[0;34m:\u001b[0m\u001b[0;34m\u001b[0m\u001b[0;34m\u001b[0m\u001b[0m\n\u001b[0;32m--> 325\u001b[0;31m             \u001b[0mversion\u001b[0m\u001b[0;34m,\u001b[0m \u001b[0mstatus\u001b[0m\u001b[0;34m,\u001b[0m \u001b[0mreason\u001b[0m \u001b[0;34m=\u001b[0m \u001b[0mself\u001b[0m\u001b[0;34m.\u001b[0m\u001b[0m_read_status\u001b[0m\u001b[0;34m(\u001b[0m\u001b[0;34m)\u001b[0m\u001b[0;34m\u001b[0m\u001b[0;34m\u001b[0m\u001b[0m\n\u001b[0m\u001b[1;32m    326\u001b[0m             \u001b[0;32mif\u001b[0m \u001b[0mstatus\u001b[0m \u001b[0;34m!=\u001b[0m \u001b[0mCONTINUE\u001b[0m\u001b[0;34m:\u001b[0m\u001b[0;34m\u001b[0m\u001b[0;34m\u001b[0m\u001b[0m\n\u001b[1;32m    327\u001b[0m                 \u001b[0;32mbreak\u001b[0m\u001b[0;34m\u001b[0m\u001b[0;34m\u001b[0m\u001b[0m\n",
            "\u001b[0;32m/usr/lib/python3.11/http/client.py\u001b[0m in \u001b[0;36m_read_status\u001b[0;34m(self)\u001b[0m\n\u001b[1;32m    284\u001b[0m \u001b[0;34m\u001b[0m\u001b[0m\n\u001b[1;32m    285\u001b[0m     \u001b[0;32mdef\u001b[0m \u001b[0m_read_status\u001b[0m\u001b[0;34m(\u001b[0m\u001b[0mself\u001b[0m\u001b[0;34m)\u001b[0m\u001b[0;34m:\u001b[0m\u001b[0;34m\u001b[0m\u001b[0;34m\u001b[0m\u001b[0m\n\u001b[0;32m--> 286\u001b[0;31m         \u001b[0mline\u001b[0m \u001b[0;34m=\u001b[0m \u001b[0mstr\u001b[0m\u001b[0;34m(\u001b[0m\u001b[0mself\u001b[0m\u001b[0;34m.\u001b[0m\u001b[0mfp\u001b[0m\u001b[0;34m.\u001b[0m\u001b[0mreadline\u001b[0m\u001b[0;34m(\u001b[0m\u001b[0m_MAXLINE\u001b[0m \u001b[0;34m+\u001b[0m \u001b[0;36m1\u001b[0m\u001b[0;34m)\u001b[0m\u001b[0;34m,\u001b[0m \u001b[0;34m\"iso-8859-1\"\u001b[0m\u001b[0;34m)\u001b[0m\u001b[0;34m\u001b[0m\u001b[0;34m\u001b[0m\u001b[0m\n\u001b[0m\u001b[1;32m    287\u001b[0m         \u001b[0;32mif\u001b[0m \u001b[0mlen\u001b[0m\u001b[0;34m(\u001b[0m\u001b[0mline\u001b[0m\u001b[0;34m)\u001b[0m \u001b[0;34m>\u001b[0m \u001b[0m_MAXLINE\u001b[0m\u001b[0;34m:\u001b[0m\u001b[0;34m\u001b[0m\u001b[0;34m\u001b[0m\u001b[0m\n\u001b[1;32m    288\u001b[0m             \u001b[0;32mraise\u001b[0m \u001b[0mLineTooLong\u001b[0m\u001b[0;34m(\u001b[0m\u001b[0;34m\"status line\"\u001b[0m\u001b[0;34m)\u001b[0m\u001b[0;34m\u001b[0m\u001b[0;34m\u001b[0m\u001b[0m\n",
            "\u001b[0;32m/usr/lib/python3.11/socket.py\u001b[0m in \u001b[0;36mreadinto\u001b[0;34m(self, b)\u001b[0m\n\u001b[1;32m    716\u001b[0m         \u001b[0;32mwhile\u001b[0m \u001b[0;32mTrue\u001b[0m\u001b[0;34m:\u001b[0m\u001b[0;34m\u001b[0m\u001b[0;34m\u001b[0m\u001b[0m\n\u001b[1;32m    717\u001b[0m             \u001b[0;32mtry\u001b[0m\u001b[0;34m:\u001b[0m\u001b[0;34m\u001b[0m\u001b[0;34m\u001b[0m\u001b[0m\n\u001b[0;32m--> 718\u001b[0;31m                 \u001b[0;32mreturn\u001b[0m \u001b[0mself\u001b[0m\u001b[0;34m.\u001b[0m\u001b[0m_sock\u001b[0m\u001b[0;34m.\u001b[0m\u001b[0mrecv_into\u001b[0m\u001b[0;34m(\u001b[0m\u001b[0mb\u001b[0m\u001b[0;34m)\u001b[0m\u001b[0;34m\u001b[0m\u001b[0;34m\u001b[0m\u001b[0m\n\u001b[0m\u001b[1;32m    719\u001b[0m             \u001b[0;32mexcept\u001b[0m \u001b[0mtimeout\u001b[0m\u001b[0;34m:\u001b[0m\u001b[0;34m\u001b[0m\u001b[0;34m\u001b[0m\u001b[0m\n\u001b[1;32m    720\u001b[0m                 \u001b[0mself\u001b[0m\u001b[0;34m.\u001b[0m\u001b[0m_timeout_occurred\u001b[0m \u001b[0;34m=\u001b[0m \u001b[0;32mTrue\u001b[0m\u001b[0;34m\u001b[0m\u001b[0;34m\u001b[0m\u001b[0m\n",
            "\u001b[0;31mKeyboardInterrupt\u001b[0m: "
          ]
        }
      ],
      "source": [
        "import time\n",
        "\n",
        "for status in operation.wait_bar():\n",
        "  time.sleep(30)"
      ]
    },
    {
      "cell_type": "markdown",
      "metadata": {
        "id": "4cg868HzqOx5"
      },
      "source": [
        "You can cancel your tuning job any time using the `cancel()` method. Uncomment the line below and run the code cell to cancel your job before it finishes."
      ]
    },
    {
      "cell_type": "code",
      "execution_count": null,
      "metadata": {
        "id": "oQuJ70_hqJi9"
      },
      "outputs": [],
      "source": [
        "operation.cancel()"
      ]
    },
    {
      "cell_type": "markdown",
      "metadata": {
        "id": "lqiL0TWDqAPn"
      },
      "source": [
        "Once the tuning is complete, you can view the loss curve from the tuning results. The [loss curve](https://ai.google.dev/gemini-api/docs/model-tuning#recommended_configurations) shows how much the model's predictions deviate from the ideal outputs."
      ]
    },
    {
      "cell_type": "code",
      "execution_count": 22,
      "metadata": {
        "id": "bIiG57xWLhP7",
        "colab": {
          "base_uri": "https://localhost:8080/",
          "height": 466
        },
        "outputId": "73e17b2f-693d-413d-d47a-e97132d337b8"
      },
      "outputs": [
        {
          "output_type": "execute_result",
          "data": {
            "text/plain": [
              "<Axes: xlabel='epoch', ylabel='mean_loss'>"
            ]
          },
          "metadata": {},
          "execution_count": 22
        },
        {
          "output_type": "display_data",
          "data": {
            "text/plain": [
              "<Figure size 640x480 with 1 Axes>"
            ],
            "image/png": "[encoded data removed]"
          },
          "metadata": {}
        }
      ],
      "source": [
        "import pandas as pd\n",
        "import seaborn as sns\n",
        "\n",
        "model = operation.result()\n",
        "\n",
        "snapshots = pd.DataFrame(model.tuning_task.snapshots)\n",
        "\n",
        "sns.lineplot(data=snapshots, x = 'epoch', y='mean_loss')\n"
      ]
    },
    {
      "cell_type": "markdown",
      "metadata": {
        "id": "rkoQTXb1vSBC"
      },
      "source": [
        "## Evaluate your model\n",
        "\n",
        "You can use the `genai.generate_content` method and specify the name of your model to test your model performance."
      ]
    },
    {
      "cell_type": "code",
      "execution_count": 24,
      "metadata": {
        "id": "zO0YcuSyxydZ"
      },
      "outputs": [],
      "source": [
        "model = genai.GenerativeModel(model_name=f'tunedModels/{name}')"
      ]
    },
    {
      "cell_type": "code",
      "execution_count": 25,
      "metadata": {
        "id": "UwGrrj6hS_x2",
        "colab": {
          "base_uri": "https://localhost:8080/",
          "height": 36
        },
        "outputId": "d3adbd60-c711-4f84-a57c-1545f18a7002"
      },
      "outputs": [
        {
          "output_type": "execute_result",
          "data": {
            "text/plain": [
              "'Lý Văn Sự'"
            ],
            "application/vnd.google.colaboratory.intrinsic+json": {
              "type": "string"
            }
          },
          "metadata": {},
          "execution_count": 25
        }
      ],
      "source": [
        "result = model.generate_content('Giảng Viên')\n",
        "result.text"
      ]
    },
    {
      "cell_type": "markdown",
      "metadata": {
        "id": "HpIA1IFevQQR"
      },
      "source": [
        "It really seems to have picked up the task despite the limited examples, but \"next\" is a simple concept, see the [tuning guide](https://ai.google.dev/gemini-api/docs/model-tuning) for more guidance on improving performance."
      ]
    },
    {
      "cell_type": "markdown",
      "metadata": {
        "id": "nmuQCbTYwIOx"
      },
      "source": [
        "## Update the description\n",
        "\n",
        "You can update the description of your tuned model any time using the `genai.update_tuned_model` method."
      ]
    },
    {
      "cell_type": "code",
      "execution_count": 17,
      "metadata": {
        "id": "9gAVuXT_wG3x"
      },
      "outputs": [],
      "source": [
        "genai.update_tuned_model(f'tunedModels/{name}', {\"description\":\"This is my model.\"});"
      ]
    },
    {
      "cell_type": "code",
      "execution_count": 18,
      "metadata": {
        "id": "d-c3YerBxVYs",
        "colab": {
          "base_uri": "https://localhost:8080/",
          "height": 36
        },
        "outputId": "fce0e53c-6806-4d92-b194-2a7be4d0d9f4"
      },
      "outputs": [
        {
          "output_type": "execute_result",
          "data": {
            "text/plain": [
              "'This is my model.'"
            ],
            "application/vnd.google.colaboratory.intrinsic+json": {
              "type": "string"
            }
          },
          "metadata": {},
          "execution_count": 18
        }
      ],
      "source": [
        "model = genai.get_tuned_model(f'tunedModels/{name}')\n",
        "\n",
        "model.description"
      ]
    },
    {
      "cell_type": "markdown",
      "metadata": {
        "id": "i_TpwvBB4bQ7"
      },
      "source": [
        "## Delete the model\n",
        "\n",
        "You can clean up your tuned model list by deleting models you no longer need. Use the `genai.delete_tuned_model` method to delete a model. If you canceled any tuning jobs, you may want to delete those as their performance may be unpredictable."
      ]
    },
    {
      "cell_type": "code",
      "execution_count": 13,
      "metadata": {
        "id": "cepfaUCvVGCo"
      },
      "outputs": [],
      "source": [
        "genai.delete_tuned_model(f'tunedModels/generate-num-4328')"
      ]
    },
    {
      "cell_type": "code",
      "source": [
        "# tunedModels/generate-num-3248\n",
        "# tunedModels/generate-num-7105\n",
        "# tunedModels/generate-num-5015\n",
        "# tunedModels/generate-num-2154\n",
        "# tunedModels/generate-num-4328\n",
        "for m in genai.list_models():\n",
        "  genai.delete_tuned_model(f'tunedModels/generate-num-3248')"
      ],
      "metadata": {
        "colab": {
          "base_uri": "https://localhost:8080/",
          "height": 477
        },
        "id": "BqdxqofZaqyD",
        "outputId": "8502c19b-b3ab-464f-d4f8-752ea73df844"
      },
      "execution_count": 8,
      "outputs": [
        {
          "output_type": "error",
          "ename": "ValueError",
          "evalue": "Invalid request.\nSome of the fields of the request message are either not initialized or initialized with an invalid value.\nPlease make sure your request matches at least one accepted HTTP binding.\nTo match a binding the request message must have all the required fields initialized with values matching their patterns as listed below:\n\tURI: \"/v1beta/{name=tunedModels/*}\"\n\tRequired request fields:\n\t\tfield: \"name\", pattern: \"tunedModels/*\"",
          "traceback": [
            "\u001b[0;31m---------------------------------------------------------------------------\u001b[0m",
            "\u001b[0;31mValueError\u001b[0m                                Traceback (most recent call last)",
            "\u001b[0;32m<ipython-input-8-e49c3d9556ce>\u001b[0m in \u001b[0;36m<cell line: 0>\u001b[0;34m()\u001b[0m\n\u001b[1;32m      1\u001b[0m \u001b[0;32mfor\u001b[0m \u001b[0mm\u001b[0m \u001b[0;32min\u001b[0m \u001b[0mgenai\u001b[0m\u001b[0;34m.\u001b[0m\u001b[0mlist_models\u001b[0m\u001b[0;34m(\u001b[0m\u001b[0;34m)\u001b[0m\u001b[0;34m:\u001b[0m\u001b[0;34m\u001b[0m\u001b[0;34m\u001b[0m\u001b[0m\n\u001b[0;32m----> 2\u001b[0;31m   \u001b[0mgenai\u001b[0m\u001b[0;34m.\u001b[0m\u001b[0mdelete_tuned_model\u001b[0m\u001b[0;34m(\u001b[0m\u001b[0;34mf'tunedModels/{m}'\u001b[0m\u001b[0;34m)\u001b[0m\u001b[0;34m\u001b[0m\u001b[0;34m\u001b[0m\u001b[0m\n\u001b[0m",
            "\u001b[0;32m/usr/local/lib/python3.11/dist-packages/google/generativeai/models.py\u001b[0m in \u001b[0;36mdelete_tuned_model\u001b[0;34m(tuned_model, client, request_options)\u001b[0m\n\u001b[1;32m    465\u001b[0m \u001b[0;34m\u001b[0m\u001b[0m\n\u001b[1;32m    466\u001b[0m     \u001b[0mname\u001b[0m \u001b[0;34m=\u001b[0m \u001b[0mmodel_types\u001b[0m\u001b[0;34m.\u001b[0m\u001b[0mmake_model_name\u001b[0m\u001b[0;34m(\u001b[0m\u001b[0mtuned_model\u001b[0m\u001b[0;34m)\u001b[0m\u001b[0;34m\u001b[0m\u001b[0;34m\u001b[0m\u001b[0m\n\u001b[0;32m--> 467\u001b[0;31m     \u001b[0mclient\u001b[0m\u001b[0;34m.\u001b[0m\u001b[0mdelete_tuned_model\u001b[0m\u001b[0;34m(\u001b[0m\u001b[0mname\u001b[0m\u001b[0;34m=\u001b[0m\u001b[0mname\u001b[0m\u001b[0;34m,\u001b[0m \u001b[0;34m**\u001b[0m\u001b[0mrequest_options\u001b[0m\u001b[0;34m)\u001b[0m\u001b[0;34m\u001b[0m\u001b[0;34m\u001b[0m\u001b[0m\n\u001b[0m",
            "\u001b[0;32m/usr/local/lib/python3.11/dist-packages/google/ai/generativelanguage_v1beta/services/model_service/client.py\u001b[0m in \u001b[0;36mdelete_tuned_model\u001b[0;34m(self, request, name, retry, timeout, metadata)\u001b[0m\n\u001b[1;32m   1508\u001b[0m \u001b[0;34m\u001b[0m\u001b[0m\n\u001b[1;32m   1509\u001b[0m         \u001b[0;31m# Send the request.\u001b[0m\u001b[0;34m\u001b[0m\u001b[0;34m\u001b[0m\u001b[0m\n\u001b[0;32m-> 1510\u001b[0;31m         rpc(\n\u001b[0m\u001b[1;32m   1511\u001b[0m             \u001b[0mrequest\u001b[0m\u001b[0;34m,\u001b[0m\u001b[0;34m\u001b[0m\u001b[0;34m\u001b[0m\u001b[0m\n\u001b[1;32m   1512\u001b[0m             \u001b[0mretry\u001b[0m\u001b[0;34m=\u001b[0m\u001b[0mretry\u001b[0m\u001b[0;34m,\u001b[0m\u001b[0;34m\u001b[0m\u001b[0;34m\u001b[0m\u001b[0m\n",
            "\u001b[0;32m/usr/local/lib/python3.11/dist-packages/google/api_core/gapic_v1/method.py\u001b[0m in \u001b[0;36m__call__\u001b[0;34m(self, timeout, retry, compression, *args, **kwargs)\u001b[0m\n\u001b[1;32m    129\u001b[0m             \u001b[0mkwargs\u001b[0m\u001b[0;34m[\u001b[0m\u001b[0;34m\"compression\"\u001b[0m\u001b[0;34m]\u001b[0m \u001b[0;34m=\u001b[0m \u001b[0mcompression\u001b[0m\u001b[0;34m\u001b[0m\u001b[0;34m\u001b[0m\u001b[0m\n\u001b[1;32m    130\u001b[0m \u001b[0;34m\u001b[0m\u001b[0m\n\u001b[0;32m--> 131\u001b[0;31m         \u001b[0;32mreturn\u001b[0m \u001b[0mwrapped_func\u001b[0m\u001b[0;34m(\u001b[0m\u001b[0;34m*\u001b[0m\u001b[0margs\u001b[0m\u001b[0;34m,\u001b[0m \u001b[0;34m**\u001b[0m\u001b[0mkwargs\u001b[0m\u001b[0;34m)\u001b[0m\u001b[0;34m\u001b[0m\u001b[0;34m\u001b[0m\u001b[0m\n\u001b[0m\u001b[1;32m    132\u001b[0m \u001b[0;34m\u001b[0m\u001b[0m\n\u001b[1;32m    133\u001b[0m \u001b[0;34m\u001b[0m\u001b[0m\n",
            "\u001b[0;32m/usr/local/lib/python3.11/dist-packages/google/api_core/retry/retry_unary.py\u001b[0m in \u001b[0;36mretry_wrapped_func\u001b[0;34m(*args, **kwargs)\u001b[0m\n\u001b[1;32m    291\u001b[0m                 \u001b[0mself\u001b[0m\u001b[0;34m.\u001b[0m\u001b[0m_initial\u001b[0m\u001b[0;34m,\u001b[0m \u001b[0mself\u001b[0m\u001b[0;34m.\u001b[0m\u001b[0m_maximum\u001b[0m\u001b[0;34m,\u001b[0m \u001b[0mmultiplier\u001b[0m\u001b[0;34m=\u001b[0m\u001b[0mself\u001b[0m\u001b[0;34m.\u001b[0m\u001b[0m_multiplier\u001b[0m\u001b[0;34m\u001b[0m\u001b[0;34m\u001b[0m\u001b[0m\n\u001b[1;32m    292\u001b[0m             )\n\u001b[0;32m--> 293\u001b[0;31m             return retry_target(\n\u001b[0m\u001b[1;32m    294\u001b[0m                 \u001b[0mtarget\u001b[0m\u001b[0;34m,\u001b[0m\u001b[0;34m\u001b[0m\u001b[0;34m\u001b[0m\u001b[0m\n\u001b[1;32m    295\u001b[0m                 \u001b[0mself\u001b[0m\u001b[0;34m.\u001b[0m\u001b[0m_predicate\u001b[0m\u001b[0;34m,\u001b[0m\u001b[0;34m\u001b[0m\u001b[0;34m\u001b[0m\u001b[0m\n",
            "\u001b[0;32m/usr/local/lib/python3.11/dist-packages/google/api_core/retry/retry_unary.py\u001b[0m in \u001b[0;36mretry_target\u001b[0;34m(target, predicate, sleep_generator, timeout, on_error, exception_factory, **kwargs)\u001b[0m\n\u001b[1;32m    151\u001b[0m         \u001b[0;32mexcept\u001b[0m \u001b[0mException\u001b[0m \u001b[0;32mas\u001b[0m \u001b[0mexc\u001b[0m\u001b[0;34m:\u001b[0m\u001b[0;34m\u001b[0m\u001b[0;34m\u001b[0m\u001b[0m\n\u001b[1;32m    152\u001b[0m             \u001b[0;31m# defer to shared logic for handling errors\u001b[0m\u001b[0;34m\u001b[0m\u001b[0;34m\u001b[0m\u001b[0m\n\u001b[0;32m--> 153\u001b[0;31m             _retry_error_helper(\n\u001b[0m\u001b[1;32m    154\u001b[0m                 \u001b[0mexc\u001b[0m\u001b[0;34m,\u001b[0m\u001b[0;34m\u001b[0m\u001b[0;34m\u001b[0m\u001b[0m\n\u001b[1;32m    155\u001b[0m                 \u001b[0mdeadline\u001b[0m\u001b[0;34m,\u001b[0m\u001b[0;34m\u001b[0m\u001b[0;34m\u001b[0m\u001b[0m\n",
            "\u001b[0;32m/usr/local/lib/python3.11/dist-packages/google/api_core/retry/retry_base.py\u001b[0m in \u001b[0;36m_retry_error_helper\u001b[0;34m(exc, deadline, next_sleep, error_list, predicate_fn, on_error_fn, exc_factory_fn, original_timeout)\u001b[0m\n\u001b[1;32m    210\u001b[0m             \u001b[0moriginal_timeout\u001b[0m\u001b[0;34m,\u001b[0m\u001b[0;34m\u001b[0m\u001b[0;34m\u001b[0m\u001b[0m\n\u001b[1;32m    211\u001b[0m         )\n\u001b[0;32m--> 212\u001b[0;31m         \u001b[0;32mraise\u001b[0m \u001b[0mfinal_exc\u001b[0m \u001b[0;32mfrom\u001b[0m \u001b[0msource_exc\u001b[0m\u001b[0;34m\u001b[0m\u001b[0;34m\u001b[0m\u001b[0m\n\u001b[0m\u001b[1;32m    213\u001b[0m     \u001b[0;32mif\u001b[0m \u001b[0mon_error_fn\u001b[0m \u001b[0;32mis\u001b[0m \u001b[0;32mnot\u001b[0m \u001b[0;32mNone\u001b[0m\u001b[0;34m:\u001b[0m\u001b[0;34m\u001b[0m\u001b[0;34m\u001b[0m\u001b[0m\n\u001b[1;32m    214\u001b[0m         \u001b[0mon_error_fn\u001b[0m\u001b[0;34m(\u001b[0m\u001b[0mexc\u001b[0m\u001b[0;34m)\u001b[0m\u001b[0;34m\u001b[0m\u001b[0;34m\u001b[0m\u001b[0m\n",
            "\u001b[0;32m/usr/local/lib/python3.11/dist-packages/google/api_core/retry/retry_unary.py\u001b[0m in \u001b[0;36mretry_target\u001b[0;34m(target, predicate, sleep_generator, timeout, on_error, exception_factory, **kwargs)\u001b[0m\n\u001b[1;32m    142\u001b[0m     \u001b[0;32mfor\u001b[0m \u001b[0msleep\u001b[0m \u001b[0;32min\u001b[0m \u001b[0msleep_generator\u001b[0m\u001b[0;34m:\u001b[0m\u001b[0;34m\u001b[0m\u001b[0;34m\u001b[0m\u001b[0m\n\u001b[1;32m    143\u001b[0m         \u001b[0;32mtry\u001b[0m\u001b[0;34m:\u001b[0m\u001b[0;34m\u001b[0m\u001b[0;34m\u001b[0m\u001b[0m\n\u001b[0;32m--> 144\u001b[0;31m             \u001b[0mresult\u001b[0m \u001b[0;34m=\u001b[0m \u001b[0mtarget\u001b[0m\u001b[0;34m(\u001b[0m\u001b[0;34m)\u001b[0m\u001b[0;34m\u001b[0m\u001b[0;34m\u001b[0m\u001b[0m\n\u001b[0m\u001b[1;32m    145\u001b[0m             \u001b[0;32mif\u001b[0m \u001b[0minspect\u001b[0m\u001b[0;34m.\u001b[0m\u001b[0misawaitable\u001b[0m\u001b[0;34m(\u001b[0m\u001b[0mresult\u001b[0m\u001b[0;34m)\u001b[0m\u001b[0;34m:\u001b[0m\u001b[0;34m\u001b[0m\u001b[0;34m\u001b[0m\u001b[0m\n\u001b[1;32m    146\u001b[0m                 \u001b[0mwarnings\u001b[0m\u001b[0;34m.\u001b[0m\u001b[0mwarn\u001b[0m\u001b[0;34m(\u001b[0m\u001b[0m_ASYNC_RETRY_WARNING\u001b[0m\u001b[0;34m)\u001b[0m\u001b[0;34m\u001b[0m\u001b[0;34m\u001b[0m\u001b[0m\n",
            "\u001b[0;32m/usr/local/lib/python3.11/dist-packages/google/api_core/timeout.py\u001b[0m in \u001b[0;36mfunc_with_timeout\u001b[0;34m(*args, **kwargs)\u001b[0m\n\u001b[1;32m    128\u001b[0m                 \u001b[0mkwargs\u001b[0m\u001b[0;34m[\u001b[0m\u001b[0;34m\"timeout\"\u001b[0m\u001b[0;34m]\u001b[0m \u001b[0;34m=\u001b[0m \u001b[0mremaining_timeout\u001b[0m\u001b[0;34m\u001b[0m\u001b[0;34m\u001b[0m\u001b[0m\n\u001b[1;32m    129\u001b[0m \u001b[0;34m\u001b[0m\u001b[0m\n\u001b[0;32m--> 130\u001b[0;31m             \u001b[0;32mreturn\u001b[0m \u001b[0mfunc\u001b[0m\u001b[0;34m(\u001b[0m\u001b[0;34m*\u001b[0m\u001b[0margs\u001b[0m\u001b[0;34m,\u001b[0m \u001b[0;34m**\u001b[0m\u001b[0mkwargs\u001b[0m\u001b[0;34m)\u001b[0m\u001b[0;34m\u001b[0m\u001b[0;34m\u001b[0m\u001b[0m\n\u001b[0m\u001b[1;32m    131\u001b[0m \u001b[0;34m\u001b[0m\u001b[0m\n\u001b[1;32m    132\u001b[0m         \u001b[0;32mreturn\u001b[0m \u001b[0mfunc_with_timeout\u001b[0m\u001b[0;34m\u001b[0m\u001b[0;34m\u001b[0m\u001b[0m\n",
            "\u001b[0;32m/usr/local/lib/python3.11/dist-packages/google/api_core/grpc_helpers.py\u001b[0m in \u001b[0;36merror_remapped_callable\u001b[0;34m(*args, **kwargs)\u001b[0m\n\u001b[1;32m     74\u001b[0m     \u001b[0;32mdef\u001b[0m \u001b[0merror_remapped_callable\u001b[0m\u001b[0;34m(\u001b[0m\u001b[0;34m*\u001b[0m\u001b[0margs\u001b[0m\u001b[0;34m,\u001b[0m \u001b[0;34m**\u001b[0m\u001b[0mkwargs\u001b[0m\u001b[0;34m)\u001b[0m\u001b[0;34m:\u001b[0m\u001b[0;34m\u001b[0m\u001b[0;34m\u001b[0m\u001b[0m\n\u001b[1;32m     75\u001b[0m         \u001b[0;32mtry\u001b[0m\u001b[0;34m:\u001b[0m\u001b[0;34m\u001b[0m\u001b[0;34m\u001b[0m\u001b[0m\n\u001b[0;32m---> 76\u001b[0;31m             \u001b[0;32mreturn\u001b[0m \u001b[0mcallable_\u001b[0m\u001b[0;34m(\u001b[0m\u001b[0;34m*\u001b[0m\u001b[0margs\u001b[0m\u001b[0;34m,\u001b[0m \u001b[0;34m**\u001b[0m\u001b[0mkwargs\u001b[0m\u001b[0;34m)\u001b[0m\u001b[0;34m\u001b[0m\u001b[0;34m\u001b[0m\u001b[0m\n\u001b[0m\u001b[1;32m     77\u001b[0m         \u001b[0;32mexcept\u001b[0m \u001b[0mgrpc\u001b[0m\u001b[0;34m.\u001b[0m\u001b[0mRpcError\u001b[0m \u001b[0;32mas\u001b[0m \u001b[0mexc\u001b[0m\u001b[0;34m:\u001b[0m\u001b[0;34m\u001b[0m\u001b[0;34m\u001b[0m\u001b[0m\n\u001b[1;32m     78\u001b[0m             \u001b[0;32mraise\u001b[0m \u001b[0mexceptions\u001b[0m\u001b[0;34m.\u001b[0m\u001b[0mfrom_grpc_error\u001b[0m\u001b[0;34m(\u001b[0m\u001b[0mexc\u001b[0m\u001b[0;34m)\u001b[0m \u001b[0;32mfrom\u001b[0m \u001b[0mexc\u001b[0m\u001b[0;34m\u001b[0m\u001b[0;34m\u001b[0m\u001b[0m\n",
            "\u001b[0;32m/usr/local/lib/python3.11/dist-packages/google/ai/generativelanguage_v1beta/services/model_service/transports/rest.py\u001b[0m in \u001b[0;36m__call__\u001b[0;34m(self, request, retry, timeout, metadata)\u001b[0m\n\u001b[1;32m    688\u001b[0m                 \u001b[0mrequest\u001b[0m\u001b[0;34m,\u001b[0m \u001b[0mmetadata\u001b[0m\u001b[0;34m\u001b[0m\u001b[0;34m\u001b[0m\u001b[0m\n\u001b[1;32m    689\u001b[0m             )\n\u001b[0;32m--> 690\u001b[0;31m             transcoded_request = _BaseModelServiceRestTransport._BaseDeleteTunedModel._get_transcoded_request(\n\u001b[0m\u001b[1;32m    691\u001b[0m                 \u001b[0mhttp_options\u001b[0m\u001b[0;34m,\u001b[0m \u001b[0mrequest\u001b[0m\u001b[0;34m\u001b[0m\u001b[0;34m\u001b[0m\u001b[0m\n\u001b[1;32m    692\u001b[0m             )\n",
            "\u001b[0;32m/usr/local/lib/python3.11/dist-packages/google/ai/generativelanguage_v1beta/services/model_service/transports/rest_base.py\u001b[0m in \u001b[0;36m_get_transcoded_request\u001b[0;34m(http_options, request)\u001b[0m\n\u001b[1;32m    176\u001b[0m         \u001b[0;32mdef\u001b[0m \u001b[0m_get_transcoded_request\u001b[0m\u001b[0;34m(\u001b[0m\u001b[0mhttp_options\u001b[0m\u001b[0;34m,\u001b[0m \u001b[0mrequest\u001b[0m\u001b[0;34m)\u001b[0m\u001b[0;34m:\u001b[0m\u001b[0;34m\u001b[0m\u001b[0;34m\u001b[0m\u001b[0m\n\u001b[1;32m    177\u001b[0m             \u001b[0mpb_request\u001b[0m \u001b[0;34m=\u001b[0m \u001b[0mmodel_service\u001b[0m\u001b[0;34m.\u001b[0m\u001b[0mDeleteTunedModelRequest\u001b[0m\u001b[0;34m.\u001b[0m\u001b[0mpb\u001b[0m\u001b[0;34m(\u001b[0m\u001b[0mrequest\u001b[0m\u001b[0;34m)\u001b[0m\u001b[0;34m\u001b[0m\u001b[0;34m\u001b[0m\u001b[0m\n\u001b[0;32m--> 178\u001b[0;31m             \u001b[0mtranscoded_request\u001b[0m \u001b[0;34m=\u001b[0m \u001b[0mpath_template\u001b[0m\u001b[0;34m.\u001b[0m\u001b[0mtranscode\u001b[0m\u001b[0;34m(\u001b[0m\u001b[0mhttp_options\u001b[0m\u001b[0;34m,\u001b[0m \u001b[0mpb_request\u001b[0m\u001b[0;34m)\u001b[0m\u001b[0;34m\u001b[0m\u001b[0;34m\u001b[0m\u001b[0m\n\u001b[0m\u001b[1;32m    179\u001b[0m             \u001b[0;32mreturn\u001b[0m \u001b[0mtranscoded_request\u001b[0m\u001b[0;34m\u001b[0m\u001b[0;34m\u001b[0m\u001b[0m\n\u001b[1;32m    180\u001b[0m \u001b[0;34m\u001b[0m\u001b[0m\n",
            "\u001b[0;32m/usr/local/lib/python3.11/dist-packages/google/api_core/path_template.py\u001b[0m in \u001b[0;36mtranscode\u001b[0;34m(http_options, message, **request_kwargs)\u001b[0m\n\u001b[1;32m    335\u001b[0m     ]\n\u001b[1;32m    336\u001b[0m \u001b[0;34m\u001b[0m\u001b[0m\n\u001b[0;32m--> 337\u001b[0;31m     raise ValueError(\n\u001b[0m\u001b[1;32m    338\u001b[0m         \u001b[0;34m\"Invalid request.\"\u001b[0m\u001b[0;34m\u001b[0m\u001b[0;34m\u001b[0m\u001b[0m\n\u001b[1;32m    339\u001b[0m         \u001b[0;34m\"\\nSome of the fields of the request message are either not initialized or \"\u001b[0m\u001b[0;34m\u001b[0m\u001b[0;34m\u001b[0m\u001b[0m\n",
            "\u001b[0;31mValueError\u001b[0m: Invalid request.\nSome of the fields of the request message are either not initialized or initialized with an invalid value.\nPlease make sure your request matches at least one accepted HTTP binding.\nTo match a binding the request message must have all the required fields initialized with values matching their patterns as listed below:\n\tURI: \"/v1beta/{name=tunedModels/*}\"\n\tRequired request fields:\n\t\tfield: \"name\", pattern: \"tunedModels/*\""
          ]
        }
      ]
    },
    {
      "cell_type": "markdown",
      "metadata": {
        "id": "ljEssIshYDEr"
      },
      "source": [
        "The model no longer exists:"
      ]
    },
    {
      "cell_type": "code",
      "execution_count": 7,
      "metadata": {
        "id": "kN_bkut_4ayL",
        "colab": {
          "base_uri": "https://localhost:8080/"
        },
        "outputId": "7a4da458-9527-476c-e0c7-44134d7d7446"
      },
      "outputs": [
        {
          "output_type": "stream",
          "name": "stdout",
          "text": [
            "<class 'NameError'>: name 'name' is not defined\n"
          ]
        }
      ],
      "source": [
        "try:\n",
        "  m = genai.get_tuned_model(f'tunedModels/{name}')\n",
        "  print(m)\n",
        "except Exception as e:\n",
        "  print(f\"{type(e)}: {e}\")"
      ]
    }
  ],
  "metadata": {
    "colab": {
      "name": "python.ipynb",
      "provenance": [],
      "gpuType": "T4"
    },
    "kernelspec": {
      "display_name": "Python 3",
      "name": "python3"
    },
    "accelerator": "GPU",
    "widgets": {
      "application/vnd.jupyter.widget-state+json": {
        "c37a673fae574e85aa469c07e692505c": {
          "model_module": "@jupyter-widgets/controls",
          "model_name": "HBoxModel",
          "model_module_version": "1.5.0",
          "state": {
            "_dom_classes": [],
            "_model_module": "@jupyter-widgets/controls",
            "_model_module_version": "1.5.0",
            "_model_name": "HBoxModel",
            "_view_count": null,
            "_view_module": "@jupyter-widgets/controls",
            "_view_module_version": "1.5.0",
            "_view_name": "HBoxView",
            "box_style": "",
            "children": [
              "IPY_MODEL_19173861157b479889eb017d4154b3bb",
              "IPY_MODEL_048fb0503ea7408fa20af742d5fecd68",
              "IPY_MODEL_95fab4241bf8481ba424ed0844daa0ce"
            ],
            "layout": "IPY_MODEL_2127d121dc344e16b113673fe1d2a726"
          }
        },
        "19173861157b479889eb017d4154b3bb": {
          "model_module": "@jupyter-widgets/controls",
          "model_name": "HTMLModel",
          "model_module_version": "1.5.0",
          "state": {
            "_dom_classes": [],
            "_model_module": "@jupyter-widgets/controls",
            "_model_module_version": "1.5.0",
            "_model_name": "HTMLModel",
            "_view_count": null,
            "_view_module": "@jupyter-widgets/controls",
            "_view_module_version": "1.5.0",
            "_view_name": "HTMLView",
            "description": "",
            "description_tooltip": null,
            "layout": "IPY_MODEL_2848793336644be6a023a389d1b4f762",
            "placeholder": "​",
            "style": "IPY_MODEL_296dc90edb3e458a9e86da4f85b833e1",
            "value": "  0%"
          }
        },
        "048fb0503ea7408fa20af742d5fecd68": {
          "model_module": "@jupyter-widgets/controls",
          "model_name": "FloatProgressModel",
          "model_module_version": "1.5.0",
          "state": {
            "_dom_classes": [],
            "_model_module": "@jupyter-widgets/controls",
            "_model_module_version": "1.5.0",
            "_model_name": "FloatProgressModel",
            "_view_count": null,
            "_view_module": "@jupyter-widgets/controls",
            "_view_module_version": "1.5.0",
            "_view_name": "ProgressView",
            "bar_style": "",
            "description": "",
            "description_tooltip": null,
            "layout": "IPY_MODEL_fbb672c8a2b24a87b6d271e2db4f2c78",
            "max": 100,
            "min": 0,
            "orientation": "horizontal",
            "style": "IPY_MODEL_d039935771a04ea1aa5082beb5b570d6",
            "value": 0
          }
        },
        "95fab4241bf8481ba424ed0844daa0ce": {
          "model_module": "@jupyter-widgets/controls",
          "model_name": "HTMLModel",
          "model_module_version": "1.5.0",
          "state": {
            "_dom_classes": [],
            "_model_module": "@jupyter-widgets/controls",
            "_model_module_version": "1.5.0",
            "_model_name": "HTMLModel",
            "_view_count": null,
            "_view_module": "@jupyter-widgets/controls",
            "_view_module_version": "1.5.0",
            "_view_name": "HTMLView",
            "description": "",
            "description_tooltip": null,
            "layout": "IPY_MODEL_f907f179872a43acb9a9ec9bfb3bbc28",
            "placeholder": "​",
            "style": "IPY_MODEL_d1959a8d0c504f27a4d4cb7ccae740f8",
            "value": " 0/100 [00:01&lt;?, ?it/s]"
          }
        },
        "2127d121dc344e16b113673fe1d2a726": {
          "model_module": "@jupyter-widgets/base",
          "model_name": "LayoutModel",
          "model_module_version": "1.2.0",
          "state": {
            "_model_module": "@jupyter-widgets/base",
            "_model_module_version": "1.2.0",
            "_model_name": "LayoutModel",
            "_view_count": null,
            "_view_module": "@jupyter-widgets/base",
            "_view_module_version": "1.2.0",
            "_view_name": "LayoutView",
            "align_content": null,
            "align_items": null,
            "align_self": null,
            "border": null,
            "bottom": null,
            "display": null,
            "flex": null,
            "flex_flow": null,
            "grid_area": null,
            "grid_auto_columns": null,
            "grid_auto_flow": null,
            "grid_auto_rows": null,
            "grid_column": null,
            "grid_gap": null,
            "grid_row": null,
            "grid_template_areas": null,
            "grid_template_columns": null,
            "grid_template_rows": null,
            "height": null,
            "justify_content": null,
            "justify_items": null,
            "left": null,
            "margin": null,
            "max_height": null,
            "max_width": null,
            "min_height": null,
            "min_width": null,
            "object_fit": null,
            "object_position": null,
            "order": null,
            "overflow": null,
            "overflow_x": null,
            "overflow_y": null,
            "padding": null,
            "right": null,
            "top": null,
            "visibility": null,
            "width": null
          }
        },
        "2848793336644be6a023a389d1b4f762": {
          "model_module": "@jupyter-widgets/base",
          "model_name": "LayoutModel",
          "model_module_version": "1.2.0",
          "state": {
            "_model_module": "@jupyter-widgets/base",
            "_model_module_version": "1.2.0",
            "_model_name": "LayoutModel",
            "_view_count": null,
            "_view_module": "@jupyter-widgets/base",
            "_view_module_version": "1.2.0",
            "_view_name": "LayoutView",
            "align_content": null,
            "align_items": null,
            "align_self": null,
            "border": null,
            "bottom": null,
            "display": null,
            "flex": null,
            "flex_flow": null,
            "grid_area": null,
            "grid_auto_columns": null,
            "grid_auto_flow": null,
            "grid_auto_rows": null,
            "grid_column": null,
            "grid_gap": null,
            "grid_row": null,
            "grid_template_areas": null,
            "grid_template_columns": null,
            "grid_template_rows": null,
            "height": null,
            "justify_content": null,
            "justify_items": null,
            "left": null,
            "margin": null,
            "max_height": null,
            "max_width": null,
            "min_height": null,
            "min_width": null,
            "object_fit": null,
            "object_position": null,
            "order": null,
            "overflow": null,
            "overflow_x": null,
            "overflow_y": null,
            "padding": null,
            "right": null,
            "top": null,
            "visibility": null,
            "width": null
          }
        },
        "296dc90edb3e458a9e86da4f85b833e1": {
          "model_module": "@jupyter-widgets/controls",
          "model_name": "DescriptionStyleModel",
          "model_module_version": "1.5.0",
          "state": {
            "_model_module": "@jupyter-widgets/controls",
            "_model_module_version": "1.5.0",
            "_model_name": "DescriptionStyleModel",
            "_view_count": null,
            "_view_module": "@jupyter-widgets/base",
            "_view_module_version": "1.2.0",
            "_view_name": "StyleView",
            "description_width": ""
          }
        },
        "fbb672c8a2b24a87b6d271e2db4f2c78": {
          "model_module": "@jupyter-widgets/base",
          "model_name": "LayoutModel",
          "model_module_version": "1.2.0",
          "state": {
            "_model_module": "@jupyter-widgets/base",
            "_model_module_version": "1.2.0",
            "_model_name": "LayoutModel",
            "_view_count": null,
            "_view_module": "@jupyter-widgets/base",
            "_view_module_version": "1.2.0",
            "_view_name": "LayoutView",
            "align_content": null,
            "align_items": null,
            "align_self": null,
            "border": null,
            "bottom": null,
            "display": null,
            "flex": null,
            "flex_flow": null,
            "grid_area": null,
            "grid_auto_columns": null,
            "grid_auto_flow": null,
            "grid_auto_rows": null,
            "grid_column": null,
            "grid_gap": null,
            "grid_row": null,
            "grid_template_areas": null,
            "grid_template_columns": null,
            "grid_template_rows": null,
            "height": null,
            "justify_content": null,
            "justify_items": null,
            "left": null,
            "margin": null,
            "max_height": null,
            "max_width": null,
            "min_height": null,
            "min_width": null,
            "object_fit": null,
            "object_position": null,
            "order": null,
            "overflow": null,
            "overflow_x": null,
            "overflow_y": null,
            "padding": null,
            "right": null,
            "top": null,
            "visibility": null,
            "width": null
          }
        },
        "d039935771a04ea1aa5082beb5b570d6": {
          "model_module": "@jupyter-widgets/controls",
          "model_name": "ProgressStyleModel",
          "model_module_version": "1.5.0",
          "state": {
            "_model_module": "@jupyter-widgets/controls",
            "_model_module_version": "1.5.0",
            "_model_name": "ProgressStyleModel",
            "_view_count": null,
            "_view_module": "@jupyter-widgets/base",
            "_view_module_version": "1.2.0",
            "_view_name": "StyleView",
            "bar_color": null,
            "description_width": ""
          }
        },
        "f907f179872a43acb9a9ec9bfb3bbc28": {
          "model_module": "@jupyter-widgets/base",
          "model_name": "LayoutModel",
          "model_module_version": "1.2.0",
          "state": {
            "_model_module": "@jupyter-widgets/base",
            "_model_module_version": "1.2.0",
            "_model_name": "LayoutModel",
            "_view_count": null,
            "_view_module": "@jupyter-widgets/base",
            "_view_module_version": "1.2.0",
            "_view_name": "LayoutView",
            "align_content": null,
            "align_items": null,
            "align_self": null,
            "border": null,
            "bottom": null,
            "display": null,
            "flex": null,
            "flex_flow": null,
            "grid_area": null,
            "grid_auto_columns": null,
            "grid_auto_flow": null,
            "grid_auto_rows": null,
            "grid_column": null,
            "grid_gap": null,
            "grid_row": null,
            "grid_template_areas": null,
            "grid_template_columns": null,
            "grid_template_rows": null,
            "height": null,
            "justify_content": null,
            "justify_items": null,
            "left": null,
            "margin": null,
            "max_height": null,
            "max_width": null,
            "min_height": null,
            "min_width": null,
            "object_fit": null,
            "object_position": null,
            "order": null,
            "overflow": null,
            "overflow_x": null,
            "overflow_y": null,
            "padding": null,
            "right": null,
            "top": null,
            "visibility": null,
            "width": null
          }
        },
        "d1959a8d0c504f27a4d4cb7ccae740f8": {
          "model_module": "@jupyter-widgets/controls",
          "model_name": "DescriptionStyleModel",
          "model_module_version": "1.5.0",
          "state": {
            "_model_module": "@jupyter-widgets/controls",
            "_model_module_version": "1.5.0",
            "_model_name": "DescriptionStyleModel",
            "_view_count": null,
            "_view_module": "@jupyter-widgets/base",
            "_view_module_version": "1.2.0",
            "_view_name": "StyleView",
            "description_width": ""
          }
        }
      }
    }
  },
  "nbformat": 4,
  "nbformat_minor": 0
}